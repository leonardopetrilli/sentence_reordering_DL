{
  "metadata": {
    "accelerator": "GPU",
    "colab": {
      "gpuType": "T4",
      "provenance": []
    },
    "kaggle": {
      "accelerator": "gpu",
      "dataSources": [],
      "isInternetEnabled": true,
      "language": "python",
      "sourceType": "notebook",
      "isGpuEnabled": true
    },
    "kernelspec": {
      "display_name": "Python 3",
      "language": "python",
      "name": "python3"
    },
    "language_info": {
      "codemirror_mode": {
        "name": "ipython",
        "version": 3
      },
      "file_extension": ".py",
      "mimetype": "text/x-python",
      "name": "python",
      "nbconvert_exporter": "python",
      "pygments_lexer": "ipython3",
      "version": "3.10.13"
    }
  },
  "nbformat_minor": 0,
  "nbformat": 4,
  "cells": [
    {
      "cell_type": "markdown",
      "source": [
        "# Sentence Reconstruction"
      ],
      "metadata": {
        "id": "ElNaMbLnRdHR"
      }
    },
    {
      "cell_type": "markdown",
      "source": [
        "The purpose of this project is to take in input a sequence of words corresponding to a random permutation of a given english sentence, and reconstruct the original sentence.\n",
        "\n",
        "The otuput can be either produced in a single shot, or through an iterative (autoregressive) loop generating a single token at a time.\n",
        "\n",
        "\n",
        "CONSTRAINTS:\n",
        "* No pretrained model can be used.\n",
        "* The neural network models should have less the 20M parameters.\n",
        "* No postprocessing should be done (e.g. no beamsearch)\n",
        "* You cannot use additional training data.\n",
        "\n",
        "\n",
        "BONUS PARAMETERS:\n",
        "\n",
        "A bonus of 0-2 points will be attributed to incentivate the adoption of models with a low number of parameters."
      ],
      "metadata": {
        "id": "oXr4iGUGRms8"
      }
    },
    {
      "cell_type": "markdown",
      "source": [
        "# Dataset\n",
        "\n",
        "The dataset is composed by sentences taken from the generics_kb dataset of hugging face. We restricted the vocabolary to the 10K most frequent words, and only took sentences making use of this vocabulary."
      ],
      "metadata": {
        "id": "iQ8k-L-WUK7l"
      }
    },
    {
      "cell_type": "markdown",
      "source": [
        "Download the dataset"
      ],
      "metadata": {
        "id": "807Wk-ir_bDU"
      }
    },
    {
      "cell_type": "code",
      "source": [
        "from datasets import load_dataset\n",
        "from keras.layers import TextVectorization\n",
        "import tensorflow as tf\n",
        "import numpy as np\n",
        "np.random.seed(42)\n",
        "ds = load_dataset('generics_kb',trust_remote_code=True)['train']"
      ],
      "metadata": {
        "execution": {
          "iopub.execute_input": "2024-06-10T15:17:50.524231Z",
          "iopub.status.busy": "2024-06-10T15:17:50.523922Z",
          "iopub.status.idle": "2024-06-10T15:19:29.727952Z",
          "shell.execute_reply": "2024-06-10T15:19:29.727235Z",
          "shell.execute_reply.started": "2024-06-10T15:17:50.524204Z"
        },
        "id": "_WjtqA8TrHcS",
        "trusted": true,
        "outputId": "fd0e9f8d-38d4-43ff-ac56-8d375c8b7c6f"
      },
      "execution_count": null,
      "outputs": [
        {
          "name": "stderr",
          "output_type": "stream",
          "text": "2024-06-10 18:44:03.486140: I tensorflow/core/platform/cpu_feature_guard.cc:210] This TensorFlow binary is optimized to use available CPU instructions in performance-critical operations.\n\nTo enable the following instructions: AVX2 FMA, in other operations, rebuild TensorFlow with the appropriate compiler flags.\n\n2024-06-10 18:44:04.239467: W tensorflow/compiler/tf2tensorrt/utils/py_utils.cc:38] TF-TRT Warning: Could not find TensorRT\n"
        }
      ]
    },
    {
      "cell_type": "markdown",
      "source": [
        "Filter row with length greater than 8.\n"
      ],
      "metadata": {
        "id": "lAVLfsdc_ej5"
      }
    },
    {
      "cell_type": "code",
      "source": [
        "ds = ds.filter(lambda row: len(row[\"generic_sentence\"].split(\" \")) > 8 )\n",
        "corpus = [ '<start> ' + row['generic_sentence'].replace(\",\",\" <comma>\") + ' <end>' for row in ds ]\n",
        "corpus = np.array(corpus)\n"
      ],
      "metadata": {
        "execution": {
          "iopub.execute_input": "2024-06-10T15:19:29.729669Z",
          "iopub.status.busy": "2024-06-10T15:19:29.729238Z",
          "iopub.status.idle": "2024-06-10T15:20:42.784595Z",
          "shell.execute_reply": "2024-06-10T15:20:42.783544Z",
          "shell.execute_reply.started": "2024-06-10T15:19:29.729636Z"
        },
        "id": "iznq8xGNt2Zr",
        "trusted": true
      },
      "execution_count": null,
      "outputs": []
    },
    {
      "cell_type": "markdown",
      "source": [
        "Create a tokenizer and Detokenizer"
      ],
      "metadata": {
        "id": "FyYpXLCF_ldR"
      }
    },
    {
      "cell_type": "code",
      "source": [
        "tokenizer=TextVectorization( max_tokens=10000, standardize=\"lower_and_strip_punctuation\", encoding=\"utf-8\",) #con il max prende le piu frequenti. ordina i token del vocab dal piu frequente al meno frequente\n",
        "tokenizer.adapt(corpus)\n",
        "\n",
        "class TextDetokenizer:\n",
        "    def __init__(self, vectorize_layer):\n",
        "        self.vectorize_layer = vectorize_layer\n",
        "        vocab = self.vectorize_layer.get_vocabulary()\n",
        "        self.index_to_word = {index: word for index, word in enumerate(vocab)}\n",
        "\n",
        "    def __detokenize_tokens(self, tokens):\n",
        "        def check_token(t):\n",
        "          if t == 3:\n",
        "            s=\"<start>\"\n",
        "          elif t == 2:\n",
        "            s=\"<end>\"\n",
        "          elif t == 7:\n",
        "            s=\"<comma>\"\n",
        "          else:\n",
        "            s=self.index_to_word.get(t, '[UNK]')\n",
        "          return s\n",
        "\n",
        "        return ' '.join([ check_token(token) for token in tokens if token != 0])\n",
        "\n",
        "    def __call__(self, batch_tokens):\n",
        "       return [self.__detokenize_tokens(tokens) for tokens in batch_tokens]\n",
        "\n",
        "\n",
        "detokenizer = TextDetokenizer( tokenizer )\n",
        "sentences = tokenizer( corpus ).numpy()"
      ],
      "metadata": {
        "execution": {
          "iopub.execute_input": "2024-06-10T15:20:42.787058Z",
          "iopub.status.busy": "2024-06-10T15:20:42.786757Z",
          "iopub.status.idle": "2024-06-10T15:20:50.419823Z",
          "shell.execute_reply": "2024-06-10T15:20:50.419009Z",
          "shell.execute_reply.started": "2024-06-10T15:20:42.787032Z"
        },
        "id": "T-bE2JpVbU9E",
        "trusted": true,
        "outputId": "35e00e6a-d076-446a-f7cb-72106aeb58b9"
      },
      "execution_count": null,
      "outputs": [
        {
          "name": "stderr",
          "output_type": "stream",
          "text": "2024-06-10 18:44:31.998541: I tensorflow/core/common_runtime/gpu/gpu_device.cc:1928] Created device /job:localhost/replica:0/task:0/device:GPU:0 with 20974 MB memory:  -> device: 0, name: NVIDIA L4, pci bus id: 0000:35:00.0, compute capability: 8.9\n"
        }
      ]
    },
    {
      "cell_type": "markdown",
      "source": [
        "Remove from corpus the sentences where any unknow word appears"
      ],
      "metadata": {
        "id": "lZ64sns1_pSK"
      }
    },
    {
      "cell_type": "code",
      "source": [
        "mask = np.sum( (sentences==1), axis=1) >= 1\n",
        "original_data = np.delete( sentences, mask , axis=0)"
      ],
      "metadata": {
        "execution": {
          "iopub.execute_input": "2024-06-10T15:20:50.421291Z",
          "iopub.status.busy": "2024-06-10T15:20:50.420959Z",
          "iopub.status.idle": "2024-06-10T15:20:50.478797Z",
          "shell.execute_reply": "2024-06-10T15:20:50.477991Z",
          "shell.execute_reply.started": "2024-06-10T15:20:50.421266Z"
        },
        "id": "2LPQtryQz5wh",
        "trusted": true
      },
      "execution_count": null,
      "outputs": []
    },
    {
      "cell_type": "code",
      "source": [
        "original_data.shape"
      ],
      "metadata": {
        "colab": {
          "base_uri": "https://localhost:8080/"
        },
        "execution": {
          "iopub.execute_input": "2024-06-10T15:20:50.480287Z",
          "iopub.status.busy": "2024-06-10T15:20:50.479954Z",
          "iopub.status.idle": "2024-06-10T15:20:50.486478Z",
          "shell.execute_reply": "2024-06-10T15:20:50.485603Z",
          "shell.execute_reply.started": "2024-06-10T15:20:50.480259Z"
        },
        "id": "qYfOscVk7U0r",
        "outputId": "4adeb4a1-efdf-4d8f-e4dd-2015e9818624",
        "trusted": true
      },
      "execution_count": null,
      "outputs": [
        {
          "execution_count": 7,
          "output_type": "execute_result",
          "data": {
            "text/plain": [
              "(241236, 28)"
            ]
          },
          "metadata": {}
        }
      ]
    },
    {
      "cell_type": "markdown",
      "source": [
        "Shuffle the sentences"
      ],
      "metadata": {
        "id": "5puiiQ2D_uxa"
      }
    },
    {
      "cell_type": "code",
      "source": [
        "from tensorflow.keras.utils import Sequence\n",
        "\n",
        "class DataGenerator(Sequence):\n",
        "    def __init__(self, data, mode=\"training\", batch_size=32, shuffle=True, seed=42):\n",
        "        self.data = data\n",
        "        self.batch_size = batch_size\n",
        "        self.shuffle = shuffle\n",
        "        self.seed = seed\n",
        "        self.mode = mode\n",
        "        self.on_epoch_end()\n",
        "\n",
        "    def __len__(self):\n",
        "        return int(np.floor(len(self.data) / self.batch_size))\n",
        "\n",
        "    def __getitem__(self, index):\n",
        "        indexes = self.indexes[index*self.batch_size:(index+1)*self.batch_size]\n",
        "\n",
        "        data_batch = np.array([self.data[k] for k in indexes])\n",
        "        #copy of ordered sequences\n",
        "        result = np.copy(data_batch)\n",
        "        #shuffle only the relevant positions for each batch\n",
        "        for i in range(data_batch.shape[0]):\n",
        "            np.random.shuffle(data_batch[i,1:data_batch[i].argmin() - 1])\n",
        "\n",
        "        if self.mode==\"training\" or self.mode==\"validation\":\n",
        "            # teacher forcing\n",
        "            target = np.array([np.append(sentence[1:], 0) for sentence in result])\n",
        "            data_batch_mask = np.where(data_batch==0,0,1)\n",
        "            result_mask = np.where(result==0,0,1)\n",
        "            return (data_batch , result, data_batch_mask, result_mask), target\n",
        "\n",
        "        elif self.mode==\"test\":\n",
        "            return data_batch, result\n",
        "\n",
        "    def on_epoch_end(self):\n",
        "        self.indexes = np.arange(len(self.data))\n",
        "        if self.shuffle:\n",
        "            if self.seed is not None:\n",
        "                np.random.seed(self.seed)\n",
        "            np.random.shuffle(self.indexes)"
      ],
      "metadata": {
        "execution": {
          "iopub.execute_input": "2024-06-10T15:20:50.487988Z",
          "iopub.status.busy": "2024-06-10T15:20:50.487670Z",
          "iopub.status.idle": "2024-06-10T15:20:50.527322Z",
          "shell.execute_reply": "2024-06-10T15:20:50.526596Z",
          "shell.execute_reply.started": "2024-06-10T15:20:50.487964Z"
        },
        "id": "1ZXLkWB6od0R",
        "trusted": true
      },
      "execution_count": null,
      "outputs": []
    },
    {
      "cell_type": "code",
      "source": [
        "# Make a random permutation of training and test set\n",
        "np.random.seed(42)\n",
        "# Shuffle the all data\n",
        "shuffled_indices = np.random.permutation(len(original_data))\n",
        "shuffled_data = original_data[shuffled_indices]"
      ],
      "metadata": {
        "execution": {
          "iopub.execute_input": "2024-06-10T15:20:50.528782Z",
          "iopub.status.busy": "2024-06-10T15:20:50.528453Z",
          "iopub.status.idle": "2024-06-10T15:20:50.569684Z",
          "shell.execute_reply": "2024-06-10T15:20:50.568845Z",
          "shell.execute_reply.started": "2024-06-10T15:20:50.528750Z"
        },
        "id": "fNo_Jy3N8zHS",
        "trusted": true
      },
      "execution_count": null,
      "outputs": []
    },
    {
      "cell_type": "code",
      "source": [
        "train_generator = DataGenerator(shuffled_data[:220000],batch_size=128)\n",
        "test_generator = DataGenerator(shuffled_data[220000:], mode='test', batch_size=128)"
      ],
      "metadata": {
        "execution": {
          "iopub.execute_input": "2024-06-10T15:20:50.571001Z",
          "iopub.status.busy": "2024-06-10T15:20:50.570732Z",
          "iopub.status.idle": "2024-06-10T15:20:50.582856Z",
          "shell.execute_reply": "2024-06-10T15:20:50.581978Z",
          "shell.execute_reply.started": "2024-06-10T15:20:50.570978Z"
        },
        "id": "uNlq1Khx1oH2",
        "trusted": true
      },
      "execution_count": null,
      "outputs": []
    },
    {
      "cell_type": "code",
      "source": [
        "x, y = test_generator.__getitem__(1)\n",
        "x = detokenizer(x)\n",
        "y = detokenizer(y)\n",
        "\n",
        "for i in range(7):\n",
        "  print(\"original: \", y[i])\n",
        "  print(\"shuffled: \", x[i])\n",
        "  print(\"\\n\")\n"
      ],
      "metadata": {
        "colab": {
          "base_uri": "https://localhost:8080/"
        },
        "execution": {
          "iopub.execute_input": "2024-06-10T15:20:50.586648Z",
          "iopub.status.busy": "2024-06-10T15:20:50.586382Z",
          "iopub.status.idle": "2024-06-10T15:20:50.602473Z",
          "shell.execute_reply": "2024-06-10T15:20:50.601622Z",
          "shell.execute_reply.started": "2024-06-10T15:20:50.586625Z"
        },
        "id": "qR5xwMOn4E88",
        "outputId": "c15b3995-877e-493d-8f1d-2679bf0c01cc",
        "trusted": true
      },
      "execution_count": null,
      "outputs": [
        {
          "name": "stdout",
          "output_type": "stream",
          "text": "original:  <start> all organisms cause changes in the environment in which they live <end>\n\nshuffled:  <start> changes cause they live which the organisms all in environment in <end>\n\n\n\n\n\noriginal:  <start> most business people have meetings on a daily basis <end>\n\nshuffled:  <start> basis daily business on meetings a people have most <end>\n\n\n\n\n\noriginal:  <start> humans thrive on stress because it makes life more interesting <end>\n\nshuffled:  <start> it humans interesting because life makes stress thrive more on <end>\n\n\n\n\n\noriginal:  <start> some bacteria can take up dna from the environment <comma> a process called transformation <end>\n\nshuffled:  <start> environment bacteria some from the called dna process transformation <comma> a take up can <end>\n\n\n\n\n\noriginal:  <start> flowers are rich source of vitamin c and have sweet taste <end>\n\nshuffled:  <start> sweet flowers are and c source vitamin have taste rich of <end>\n\n\n\n\n\noriginal:  <start> antihistamines make a good sleep aid for people with occasional insomnia <end>\n\nshuffled:  <start> a sleep make aid insomnia people good with for antihistamines occasional <end>\n\n\n\n\n\noriginal:  <start> fish are one of the most important natural renewable resource of the pacific countries <end>\n\nshuffled:  <start> resource natural of countries of the the most are renewable important one fish pacific <end>\n\n\n\n\n"
        }
      ]
    },
    {
      "cell_type": "markdown",
      "source": [
        "# Metrics"
      ],
      "metadata": {
        "id": "Fo8MazCGBTv3"
      }
    },
    {
      "cell_type": "markdown",
      "source": [
        "Let s be the source string and p your prediction. The quality of the results will be measured according to the following metric:\n",
        "\n",
        "1.  look for the longest substring w between s and p\n",
        "2.  compute |w|/max(|s|,|p|)\n",
        "\n",
        "If the match is exact, the score is 1.\n",
        "\n",
        "When computing the score, you should NOT consider the start and end tokens.\n",
        "\n"
      ],
      "metadata": {
        "id": "G0NOkuO0CfPo"
      }
    },
    {
      "cell_type": "markdown",
      "source": [
        "The longest common substring can be computed with the SequenceMatcher function of difflib, that allows a simple definition of our metric."
      ],
      "metadata": {
        "id": "a-aUrdlXDdVf"
      }
    },
    {
      "cell_type": "code",
      "source": [
        "from difflib import SequenceMatcher\n",
        "\n",
        "def score(s,p):\n",
        "  match = SequenceMatcher(None, s, p).find_longest_match()\n",
        "  #print(match.size)\n",
        "  return (match.size/max(len(p),len(s)))"
      ],
      "metadata": {
        "execution": {
          "iopub.execute_input": "2024-06-10T15:20:50.603756Z",
          "iopub.status.busy": "2024-06-10T15:20:50.603487Z",
          "iopub.status.idle": "2024-06-10T15:20:50.608707Z",
          "shell.execute_reply": "2024-06-10T15:20:50.607727Z",
          "shell.execute_reply.started": "2024-06-10T15:20:50.603734Z"
        },
        "id": "ulpTRdrF_huh",
        "trusted": true
      },
      "execution_count": null,
      "outputs": []
    },
    {
      "cell_type": "markdown",
      "source": [
        "Let's do an example."
      ],
      "metadata": {
        "id": "RB2YfjXNExM-"
      }
    },
    {
      "cell_type": "code",
      "source": [
        "original = \"at first henry wanted to be friends with the king of france\"\n",
        "generated = \"henry wanted to be friends with king of france at the first\"\n",
        "\n",
        "print(\"your score is \",score(original,generated))"
      ],
      "metadata": {
        "colab": {
          "base_uri": "https://localhost:8080/"
        },
        "execution": {
          "iopub.execute_input": "2024-06-10T15:20:50.609880Z",
          "iopub.status.busy": "2024-06-10T15:20:50.609623Z",
          "iopub.status.idle": "2024-06-10T15:20:50.619007Z",
          "shell.execute_reply": "2024-06-10T15:20:50.618114Z",
          "shell.execute_reply.started": "2024-06-10T15:20:50.609858Z"
        },
        "id": "h17C8bVjEwur",
        "outputId": "4da07b5d-d8a9-41d7-bc92-f59a629e551b",
        "trusted": true
      },
      "execution_count": null,
      "outputs": [
        {
          "name": "stdout",
          "output_type": "stream",
          "text": "your score is  0.5423728813559322\n"
        }
      ]
    },
    {
      "cell_type": "markdown",
      "source": [
        "The score must be computed as an average of at least 3K random examples taken form the test set."
      ],
      "metadata": {
        "id": "BET8GqBvFugR"
      }
    },
    {
      "cell_type": "markdown",
      "source": [
        "# What to deliver"
      ],
      "metadata": {
        "id": "4fwo7xj4GBW1"
      }
    },
    {
      "cell_type": "markdown",
      "source": [
        "You are supposed to deliver a single notebook, suitably commented.\n",
        "The notebook should describe a single model, although you may briefly discuss additional attempts you did.\n",
        "\n",
        "The notebook should contain a full trace of the training.\n",
        "Weights should be made available on request.\n",
        "\n",
        "You must also give a clear assesment of the performance of the model, computed with the metric that has been given to you.\n",
        "\n",
        "# Good work!"
      ],
      "metadata": {
        "id": "i6uITuxOGHfJ"
      }
    },
    {
      "cell_type": "code",
      "source": [
        "import tensorflow as tf\n",
        "import keras_nlp\n",
        "import keras\n",
        "import numpy as np\n",
        "from keras.callbacks import EarlyStopping"
      ],
      "metadata": {
        "execution": {
          "iopub.execute_input": "2024-06-10T16:56:27.467722Z",
          "iopub.status.busy": "2024-06-10T16:56:27.467310Z",
          "iopub.status.idle": "2024-06-10T16:56:27.472466Z",
          "shell.execute_reply": "2024-06-10T16:56:27.471545Z",
          "shell.execute_reply.started": "2024-06-10T16:56:27.467687Z"
        },
        "trusted": true,
        "id": "0UYn5zNwxz7c"
      },
      "execution_count": null,
      "outputs": []
    },
    {
      "cell_type": "markdown",
      "source": [
        "\n",
        "The model is instantiated with the following parameters, each selected through a process of trial and error by training various models with different parameter combinations.\n",
        "\n",
        "Two of the most influential parameters were the number of attention heads and the dropout rate:\n",
        "\n",
        "•\tNumber of Heads: This parameter significantly affects how well the model captures underlying dependencies in sequences.\n",
        "\n",
        "•\tDropout Rate: This parameter determines the model's susceptibility to overfitting and underfitting."
      ],
      "metadata": {
        "id": "jETXgyYy1DIa"
      }
    },
    {
      "cell_type": "code",
      "source": [
        "BATCH_SIZE = 64\n",
        "EPOCHS = 200\n",
        "MAX_SEQUENCE_LENGTH = 28\n",
        "VOCAB_SIZE = 10000\n",
        "num_layers = 6\n",
        "EMBED_DIM = 256\n",
        "INTERMEDIATE_DIM = 1550\n",
        "NUM_HEADS = 8\n",
        "DROPOUT = 0.1"
      ],
      "metadata": {
        "execution": {
          "iopub.execute_input": "2024-06-10T17:25:19.478193Z",
          "iopub.status.busy": "2024-06-10T17:25:19.477259Z",
          "iopub.status.idle": "2024-06-10T17:25:19.483243Z",
          "shell.execute_reply": "2024-06-10T17:25:19.482203Z",
          "shell.execute_reply.started": "2024-06-10T17:25:19.478150Z"
        },
        "trusted": true,
        "id": "h-uertD1xz7c"
      },
      "execution_count": null,
      "outputs": []
    },
    {
      "cell_type": "markdown",
      "source": [
        "For this project, I opted to implement a neural network based on the original Transformer model, as introduced in the influential paper:\n",
        "\n",
        "\t•\tVaswani, A., Shazeer, N., Parmar, N., Uszkoreit, J., Jones, L., Gomez, A. N., Kaiser, Ł., & Polosukhin, I. (2017). Attention is All You Need. Advances in Neural Information Processing Systems, 30.\n",
        "\n",
        "Initially, I replicated the model as outlined in the paper and then made iterative improvements, resulting in the current version of the network.\n",
        "\n",
        "One of the first enhancements I implemented was modifying the DataGenerator class to better fit the model’s architecture. The __getitem__() method now supports two distinct modes based on its usage:\n",
        "\n",
        "\t•\tmode=“training”: This mode is designed for creating the training generator used in model.fit(). It also generates masks for padding elements and shifts the target sequence one token to the right, facilitating the teacher forcing technique.\n",
        "\t•\tmode=“test”: This mode is intended for creating both the test generator and the validation generator used for predictions. The validation data is a subset of the training data from the dataset."
      ],
      "metadata": {
        "id": "JF7qH082yXnf"
      }
    },
    {
      "cell_type": "code",
      "source": [
        "def get_transformer():\n",
        "    padding_mask_enc = keras.Input( shape=(None,), name=\"padding_mask_enc\",)\n",
        "    padding_mask_dec = keras.Input( shape=(None,),name=\"padding_mask_dec\",)\n",
        "    # Encoder\n",
        "    encoder_inputs = keras.Input(shape=(None,), name=\"encoder_inputs\")\n",
        "    embedding = keras.layers.Embedding(input_dim=VOCAB_SIZE, output_dim=EMBED_DIM)\n",
        "    x = embedding(encoder_inputs)\n",
        "    for i in range(num_layers-1):\n",
        "        x = keras_nlp.layers.TransformerEncoder(\n",
        "            intermediate_dim=INTERMEDIATE_DIM, num_heads=NUM_HEADS,dropout=DROPOUT\n",
        "        )(inputs=x, padding_mask=padding_mask_enc)\n",
        "    encoder_outputs = keras_nlp.layers.TransformerEncoder(\n",
        "            intermediate_dim=INTERMEDIATE_DIM, num_heads=NUM_HEADS,dropout=DROPOUT\n",
        "        )(inputs=x, padding_mask=padding_mask_enc)\n",
        "\n",
        "\n",
        "    # Decoder\n",
        "    decoder_inputs = keras.Input(shape=(None,), name=\"decoder_inputs\")\n",
        "    decoder_embedding = embedding(decoder_inputs)\n",
        "    x = keras_nlp.layers.PositionEmbedding(\n",
        "    sequence_length=MAX_SEQUENCE_LENGTH)(decoder_embedding)\n",
        "    x += decoder_embedding\n",
        "    for i in range(num_layers):\n",
        "        x = keras_nlp.layers.TransformerDecoder(\n",
        "            intermediate_dim=INTERMEDIATE_DIM, num_heads=NUM_HEADS,dropout=DROPOUT\n",
        "        )(decoder_sequence=x, encoder_sequence=encoder_outputs, decoder_padding_mask=padding_mask_dec, encoder_padding_mask=padding_mask_enc)\n",
        "    decoder_outputs = keras.layers.Dense(VOCAB_SIZE, activity_regularizer = 'l2', activation=\"softmax\")(x)\n",
        "    transformer = keras.Model(\n",
        "        [encoder_inputs, decoder_inputs, padding_mask_enc, padding_mask_dec],\n",
        "        decoder_outputs,\n",
        "        name=\"transformer\",\n",
        "    )\n",
        "    return transformer"
      ],
      "metadata": {
        "execution": {
          "iopub.execute_input": "2024-06-10T17:25:19.626467Z",
          "iopub.status.busy": "2024-06-10T17:25:19.626084Z",
          "iopub.status.idle": "2024-06-10T17:25:19.637432Z",
          "shell.execute_reply": "2024-06-10T17:25:19.636475Z",
          "shell.execute_reply.started": "2024-06-10T17:25:19.626438Z"
        },
        "trusted": true,
        "id": "Jn5Nh-D6xz7c"
      },
      "execution_count": null,
      "outputs": []
    },
    {
      "cell_type": "code",
      "source": [
        "transformer = get_transformer()"
      ],
      "metadata": {
        "execution": {
          "iopub.execute_input": "2024-06-10T17:25:19.769250Z",
          "iopub.status.busy": "2024-06-10T17:25:19.768915Z",
          "iopub.status.idle": "2024-06-10T17:25:20.631659Z",
          "shell.execute_reply": "2024-06-10T17:25:20.630641Z",
          "shell.execute_reply.started": "2024-06-10T17:25:19.769219Z"
        },
        "trusted": true,
        "id": "6XhspMRsxz7c"
      },
      "execution_count": null,
      "outputs": []
    },
    {
      "cell_type": "markdown",
      "source": [
        "The custom scheduler often caused the model to get stuck in plateaus. However, by utilizing the restart technique with CosineDecayRestarts(), the model was able to break free from these plateaus, leading to a marked improvement in overall performance. This adjustment resulted in a significant increase in both training accuracy and the final test score, with an average gain of 0.02."
      ],
      "metadata": {
        "id": "KyoY13DnzhBe"
      }
    },
    {
      "cell_type": "code",
      "source": [
        "class MyLRSchedule(keras.optimizers.schedules.LearningRateSchedule):\n",
        "\n",
        "    def __init__(self, d_model, warmup_steps=4000):\n",
        "        super().__init__()\n",
        "\n",
        "        self.d_model = d_model\n",
        "        self.d_model = tf.cast(self.d_model, tf.float32)\n",
        "\n",
        "        self.warmup_steps = warmup_steps\n",
        "\n",
        "    def __call__(self, step):\n",
        "        step = tf.cast(step, dtype=tf.float32)\n",
        "        arg1 = tf.math.rsqrt(step)\n",
        "        arg2 = step * (self.warmup_steps ** -1.5)\n",
        "\n",
        "        return tf.math.rsqrt(self.d_model) * tf.math.minimum(arg1, arg2)\n",
        "restart_scheduler = keras.optimizers.schedules.CosineDecayRestarts(8e-04,3e04,t_mul=0.5,m_mul=0.01)\n"
      ],
      "metadata": {
        "execution": {
          "iopub.execute_input": "2024-06-10T17:25:20.634287Z",
          "iopub.status.busy": "2024-06-10T17:25:20.633473Z",
          "iopub.status.idle": "2024-06-10T17:25:20.641325Z",
          "shell.execute_reply": "2024-06-10T17:25:20.640476Z",
          "shell.execute_reply.started": "2024-06-10T17:25:20.634251Z"
        },
        "trusted": true,
        "id": "Z3ANdhOhxz7c"
      },
      "execution_count": null,
      "outputs": []
    },
    {
      "cell_type": "code",
      "source": [
        "def masked_loss(label, pred):\n",
        "    mask = label != 0\n",
        "    loss_object = tf.keras.losses.SparseCategoricalCrossentropy(\n",
        "        from_logits=False, reduction='none')\n",
        "    loss = loss_object(label, pred)\n",
        "    mask = tf.cast(mask, dtype=loss.dtype)\n",
        "    loss *= mask\n",
        "    loss = tf.reduce_sum(loss)/tf.reduce_sum(mask)\n",
        "    return loss\n",
        "\n",
        "def masked_accuracy(label, pred):\n",
        "    pred = tf.argmax(pred, axis=2)\n",
        "    label = tf.cast(label, pred.dtype)\n",
        "    match = label == pred\n",
        "\n",
        "    mask = label != 0\n",
        "\n",
        "    match = match & mask\n",
        "\n",
        "    match = tf.cast(match, dtype=tf.float32)\n",
        "    mask = tf.cast(mask, dtype=tf.float32)\n",
        "    return tf.reduce_sum(match)/tf.reduce_sum(mask)"
      ],
      "metadata": {
        "execution": {
          "iopub.execute_input": "2024-06-10T17:25:20.642791Z",
          "iopub.status.busy": "2024-06-10T17:25:20.642508Z",
          "iopub.status.idle": "2024-06-10T17:25:20.653987Z",
          "shell.execute_reply": "2024-06-10T17:25:20.653111Z",
          "shell.execute_reply.started": "2024-06-10T17:25:20.642767Z"
        },
        "trusted": true,
        "id": "mYc1dpvaxz7c"
      },
      "execution_count": null,
      "outputs": []
    },
    {
      "cell_type": "code",
      "source": [
        "train_generator = DataGenerator(shuffled_data[:217000], batch_size=200)\n",
        "val_generator = DataGenerator(shuffled_data[217000:220000], batch_size=1000, mode='test')"
      ],
      "metadata": {
        "execution": {
          "iopub.execute_input": "2024-06-10T17:25:20.668119Z",
          "iopub.status.busy": "2024-06-10T17:25:20.667856Z",
          "iopub.status.idle": "2024-06-10T17:25:20.677827Z",
          "shell.execute_reply": "2024-06-10T17:25:20.677020Z",
          "shell.execute_reply.started": "2024-06-10T17:25:20.668096Z"
        },
        "trusted": true,
        "id": "QI840qBHxz7c"
      },
      "execution_count": null,
      "outputs": []
    },
    {
      "cell_type": "code",
      "source": [
        "def clean_sentence(x):\n",
        "    x = x.replace('<start>', '').replace('<end>', '').replace('<pad>', '').strip()\n",
        "    return x"
      ],
      "metadata": {
        "execution": {
          "iopub.execute_input": "2024-06-10T17:25:20.943988Z",
          "iopub.status.busy": "2024-06-10T17:25:20.943663Z",
          "iopub.status.idle": "2024-06-10T17:25:20.948904Z",
          "shell.execute_reply": "2024-06-10T17:25:20.947891Z",
          "shell.execute_reply.started": "2024-06-10T17:25:20.943963Z"
        },
        "trusted": true,
        "id": "u1o3NcE3xz7d"
      },
      "execution_count": null,
      "outputs": []
    },
    {
      "cell_type": "code",
      "source": [
        "class Translator(tf.Module):\n",
        "    def __init__(self, transformer, tokenizer):\n",
        "        self.transformer = transformer\n",
        "        self.tokenizer = tokenizer\n",
        "\n",
        "    def __call__(self, sentences, max_length=28):\n",
        "        batch_size = sentences.shape[0]\n",
        "\n",
        "        # generate word list for each sentence\n",
        "        bow = [[word for word in sentence if word not in [3, 2, 0]] for sentence in sentences]\n",
        "        # starting vector for prediction, it contains the sos index\n",
        "        #output = [[3]+[0]*(MAX_SEQUENCE_LENGTH-1) for _ in range(batch_size)]\n",
        "        output = [[3] for _ in range(batch_size)]\n",
        "\n",
        "        # during inference, output will be filled with the final sentence.\n",
        "\n",
        "        for i in range(1, max_length):\n",
        "            # (enc_input, dec_input)\n",
        "\n",
        "            predictions = np.array(self.transformer((np.array(sentences), np.array(output), np.where(np.array(sentences)==0,0,1),np.where(np.array(output)==0,0,1)), training=False))\n",
        "            # remove useless dimensions\n",
        "            predictions = predictions[:, -1, :]\n",
        "            for j in range(batch_size):\n",
        "                if len(bow[j]) == 0:\n",
        "                    # no more words to use\n",
        "                    cand_token = 2\n",
        "                else:\n",
        "                    # choose index with highest score\n",
        "                    s_prediction = predictions[j, np.array(bow[j])]\n",
        "                    cand_index = np.argmax(s_prediction)\n",
        "                    cand_token = bow[j][cand_index]\n",
        "                    del bow[j][cand_index]\n",
        "                #output[j][i] = cand_token\n",
        "                output[j].append(cand_token)\n",
        "        return output"
      ],
      "metadata": {
        "execution": {
          "iopub.execute_input": "2024-06-10T17:25:21.414336Z",
          "iopub.status.busy": "2024-06-10T17:25:21.413975Z",
          "iopub.status.idle": "2024-06-10T17:25:21.424603Z",
          "shell.execute_reply": "2024-06-10T17:25:21.423541Z",
          "shell.execute_reply.started": "2024-06-10T17:25:21.414307Z"
        },
        "trusted": true,
        "id": "LPQPwyCsxz7d"
      },
      "execution_count": null,
      "outputs": []
    },
    {
      "cell_type": "markdown",
      "source": [
        "The ValidationCallback played a crucial role in significantly enhancing the model’s performance. This custom callback monitors the model’s progress during training by evaluating its predictions on the validation set.\n",
        "This callback enables prolonged training sessions while preventing overfitting on the validation data, resulting in an average test score increase of 0.03."
      ],
      "metadata": {
        "id": "Cw2BZj_JzwDL"
      }
    },
    {
      "cell_type": "code",
      "source": [
        "from tensorflow.keras.callbacks import Callback, ModelCheckpoint\n",
        "import numpy as np\n",
        "\n",
        "class ValidationCallback(Callback):\n",
        "    def __init__(self, tokenizer,generator, batch_size, max_patience):\n",
        "        super(ValidationCallback, self).__init__()\n",
        "        self.tokenizer = tokenizer\n",
        "        self.generator = generator\n",
        "        self.batch_size = batch_size\n",
        "        self.max_patience = max_patience\n",
        "        self.patience = 0\n",
        "        self.max_score = 0\n",
        "\n",
        "    def on_epoch_end(self, epoch, logs=None):\n",
        "        score_batch_size = self.batch_size\n",
        "        total_val_size = 3000\n",
        "        tot_score = 0\n",
        "        self.model.save_weights('current_model.weights.h5')\n",
        "        model = get_transformer()\n",
        "        model.load_weights('current_model.weights.h5')\n",
        "        translator = Translator(model, self.tokenizer)\n",
        "        for i in range(total_val_size // score_batch_size):\n",
        "            shuffled, ordered = self.generator[i]\n",
        "            y_pred = translator(shuffled)\n",
        "            pred_sentences = detokenizer(y_pred)\n",
        "            original_sentences = detokenizer(ordered)\n",
        "            b_score = 0\n",
        "            for j in range(score_batch_size):\n",
        "                b_score += score(clean_sentence(original_sentences[j]), clean_sentence(pred_sentences[j]))\n",
        "\n",
        "            tot_score += b_score\n",
        "            print(f\"\\nValidation Score after batch {i+1}: {tot_score / ((i+1) * score_batch_size)}\")\n",
        "        final_score = tot_score / total_val_size\n",
        "        if final_score >= self.max_score:\n",
        "            self.patience = 0\n",
        "            self.max_score = final_score\n",
        "            self.model.save_weights('best_model.weights.h5')\n",
        "        else:\n",
        "            if self.patience == self.max_patience:\n",
        "                self.model.load_weights('best_model.weights.h5')\n",
        "                self.model.stop_training = True\n",
        "            else:\n",
        "                self.patience +=1\n",
        "        logs['val_score'] = final_score"
      ],
      "metadata": {
        "execution": {
          "iopub.execute_input": "2024-06-10T17:25:21.913322Z",
          "iopub.status.busy": "2024-06-10T17:25:21.912996Z",
          "iopub.status.idle": "2024-06-10T17:25:21.924344Z",
          "shell.execute_reply": "2024-06-10T17:25:21.923457Z",
          "shell.execute_reply.started": "2024-06-10T17:25:21.913297Z"
        },
        "trusted": true,
        "id": "iWyiVZf_xz7d"
      },
      "execution_count": null,
      "outputs": []
    },
    {
      "cell_type": "code",
      "source": [
        "score_callback = ValidationCallback(tokenizer=tokenizer,generator=val_generator,batch_size=1000, max_patience=8)"
      ],
      "metadata": {
        "execution": {
          "iopub.execute_input": "2024-06-10T17:25:22.345376Z",
          "iopub.status.busy": "2024-06-10T17:25:22.345082Z",
          "iopub.status.idle": "2024-06-10T17:25:22.349615Z",
          "shell.execute_reply": "2024-06-10T17:25:22.348658Z",
          "shell.execute_reply.started": "2024-06-10T17:25:22.345353Z"
        },
        "trusted": true,
        "id": "hQ1FDWK8xz7d"
      },
      "execution_count": null,
      "outputs": []
    },
    {
      "cell_type": "code",
      "source": [
        "import matplotlib.pyplot as plt\n",
        "transformer.summary()\n",
        "early_stopping = EarlyStopping(monitor='val_loss', patience=5, verbose=1, restore_best_weights=True) #stop if validation loss does not improve for 5 epochs\n",
        "opt = keras.optimizers.Adam(learning_rate=restart_scheduler,beta_1=0.9, beta_2=0.98,epsilon=1e-09)\n",
        "transformer.compile(optimizer=opt, loss=masked_loss, metrics=[masked_accuracy])\n",
        "history = transformer.fit(train_generator,epochs=EPOCHS,callbacks=score_callback)\n",
        "#  \"Accuracy\"\n",
        "plt.plot(history.history['masked_accuracy'])\n",
        "plt.title('model accuracy')\n",
        "plt.ylabel('accuracy')\n",
        "plt.xlabel('epoch')\n",
        "plt.legend(['train'], loc='upper left')\n",
        "plt.show()\n",
        "# \"Loss\"\n",
        "plt.plot(history.history['val_score'])\n",
        "plt.title('model score')\n",
        "plt.ylabel('score')\n",
        "plt.xlabel('epoch')\n",
        "plt.legend(['val'], loc='upper left')\n",
        "plt.show()\n"
      ],
      "metadata": {
        "execution": {
          "iopub.execute_input": "2024-06-10T17:25:22.665768Z",
          "iopub.status.busy": "2024-06-10T17:25:22.665019Z"
        },
        "trusted": true,
        "id": "GLe2b2FBxz7e",
        "outputId": "d528681f-9173-4597-8d68-0a480f0bcb3c"
      },
      "execution_count": null,
      "outputs": [
        {
          "output_type": "display_data",
          "data": {
            "text/html": [
              "<pre style=\"white-space:pre;overflow-x:auto;line-height:normal;font-family:Menlo,'DejaVu Sans Mono',consolas,'Courier New',monospace\"><span style=\"font-weight: bold\">Model: \"transformer\"</span>\n",
              "</pre>\n"
            ],
            "text/plain": [
              "\u001b[1mModel: \"transformer\"\u001b[0m\n"
            ]
          },
          "metadata": {}
        },
        {
          "output_type": "display_data",
          "data": {
            "text/html": [
              "<pre style=\"white-space:pre;overflow-x:auto;line-height:normal;font-family:Menlo,'DejaVu Sans Mono',consolas,'Courier New',monospace\">┏━━━━━━━━━━━━━━━━━━━━━┳━━━━━━━━━━━━━━━━━━━┳━━━━━━━━━━━━┳━━━━━━━━━━━━━━━━━━━┓\n",
              "┃<span style=\"font-weight: bold\"> Layer (type)        </span>┃<span style=\"font-weight: bold\"> Output Shape      </span>┃<span style=\"font-weight: bold\">    Param # </span>┃<span style=\"font-weight: bold\"> Connected to      </span>┃\n",
              "┡━━━━━━━━━━━━━━━━━━━━━╇━━━━━━━━━━━━━━━━━━━╇━━━━━━━━━━━━╇━━━━━━━━━━━━━━━━━━━┩\n",
              "│ decoder_inputs      │ (<span style=\"color: #00d7ff; text-decoration-color: #00d7ff\">None</span>, <span style=\"color: #00d7ff; text-decoration-color: #00d7ff\">None</span>)      │          <span style=\"color: #00af00; text-decoration-color: #00af00\">0</span> │ -                 │\n",
              "│ (<span style=\"color: #0087ff; text-decoration-color: #0087ff\">InputLayer</span>)        │                   │            │                   │\n",
              "├─────────────────────┼───────────────────┼────────────┼───────────────────┤\n",
              "│ encoder_inputs      │ (<span style=\"color: #00d7ff; text-decoration-color: #00d7ff\">None</span>, <span style=\"color: #00d7ff; text-decoration-color: #00d7ff\">None</span>)      │          <span style=\"color: #00af00; text-decoration-color: #00af00\">0</span> │ -                 │\n",
              "│ (<span style=\"color: #0087ff; text-decoration-color: #0087ff\">InputLayer</span>)        │                   │            │                   │\n",
              "├─────────────────────┼───────────────────┼────────────┼───────────────────┤\n",
              "│ embedding_28        │ (<span style=\"color: #00d7ff; text-decoration-color: #00d7ff\">None</span>, <span style=\"color: #00d7ff; text-decoration-color: #00d7ff\">None</span>, <span style=\"color: #00af00; text-decoration-color: #00af00\">256</span>) │  <span style=\"color: #00af00; text-decoration-color: #00af00\">2,560,000</span> │ encoder_inputs[<span style=\"color: #00af00; text-decoration-color: #00af00\">0</span>… │\n",
              "│ (<span style=\"color: #0087ff; text-decoration-color: #0087ff\">Embedding</span>)         │                   │            │ decoder_inputs[<span style=\"color: #00af00; text-decoration-color: #00af00\">0</span>… │\n",
              "├─────────────────────┼───────────────────┼────────────┼───────────────────┤\n",
              "│ padding_mask_enc    │ (<span style=\"color: #00d7ff; text-decoration-color: #00d7ff\">None</span>, <span style=\"color: #00d7ff; text-decoration-color: #00d7ff\">None</span>)      │          <span style=\"color: #00af00; text-decoration-color: #00af00\">0</span> │ -                 │\n",
              "│ (<span style=\"color: #0087ff; text-decoration-color: #0087ff\">InputLayer</span>)        │                   │            │                   │\n",
              "├─────────────────────┼───────────────────┼────────────┼───────────────────┤\n",
              "│ transformer_encode… │ (<span style=\"color: #00d7ff; text-decoration-color: #00d7ff\">None</span>, <span style=\"color: #00d7ff; text-decoration-color: #00d7ff\">None</span>, <span style=\"color: #00af00; text-decoration-color: #00af00\">256</span>) │  <span style=\"color: #00af00; text-decoration-color: #00af00\">1,059,598</span> │ embedding_28[<span style=\"color: #00af00; text-decoration-color: #00af00\">0</span>][<span style=\"color: #00af00; text-decoration-color: #00af00\">…</span> │\n",
              "│ (<span style=\"color: #0087ff; text-decoration-color: #0087ff\">TransformerEncode…</span> │                   │            │ padding_mask_enc… │\n",
              "├─────────────────────┼───────────────────┼────────────┼───────────────────┤\n",
              "│ transformer_encode… │ (<span style=\"color: #00d7ff; text-decoration-color: #00d7ff\">None</span>, <span style=\"color: #00d7ff; text-decoration-color: #00d7ff\">None</span>, <span style=\"color: #00af00; text-decoration-color: #00af00\">256</span>) │  <span style=\"color: #00af00; text-decoration-color: #00af00\">1,059,598</span> │ transformer_enco… │\n",
              "│ (<span style=\"color: #0087ff; text-decoration-color: #0087ff\">TransformerEncode…</span> │                   │            │ padding_mask_enc… │\n",
              "├─────────────────────┼───────────────────┼────────────┼───────────────────┤\n",
              "│ transformer_encode… │ (<span style=\"color: #00d7ff; text-decoration-color: #00d7ff\">None</span>, <span style=\"color: #00d7ff; text-decoration-color: #00d7ff\">None</span>, <span style=\"color: #00af00; text-decoration-color: #00af00\">256</span>) │  <span style=\"color: #00af00; text-decoration-color: #00af00\">1,059,598</span> │ transformer_enco… │\n",
              "│ (<span style=\"color: #0087ff; text-decoration-color: #0087ff\">TransformerEncode…</span> │                   │            │ padding_mask_enc… │\n",
              "├─────────────────────┼───────────────────┼────────────┼───────────────────┤\n",
              "│ transformer_encode… │ (<span style=\"color: #00d7ff; text-decoration-color: #00d7ff\">None</span>, <span style=\"color: #00d7ff; text-decoration-color: #00d7ff\">None</span>, <span style=\"color: #00af00; text-decoration-color: #00af00\">256</span>) │  <span style=\"color: #00af00; text-decoration-color: #00af00\">1,059,598</span> │ transformer_enco… │\n",
              "│ (<span style=\"color: #0087ff; text-decoration-color: #0087ff\">TransformerEncode…</span> │                   │            │ padding_mask_enc… │\n",
              "├─────────────────────┼───────────────────┼────────────┼───────────────────┤\n",
              "│ position_embedding… │ (<span style=\"color: #00d7ff; text-decoration-color: #00d7ff\">None</span>, <span style=\"color: #00d7ff; text-decoration-color: #00d7ff\">None</span>, <span style=\"color: #00af00; text-decoration-color: #00af00\">256</span>) │      <span style=\"color: #00af00; text-decoration-color: #00af00\">7,168</span> │ embedding_28[<span style=\"color: #00af00; text-decoration-color: #00af00\">1</span>][<span style=\"color: #00af00; text-decoration-color: #00af00\">…</span> │\n",
              "│ (<span style=\"color: #0087ff; text-decoration-color: #0087ff\">PositionEmbedding</span>) │                   │            │                   │\n",
              "├─────────────────────┼───────────────────┼────────────┼───────────────────┤\n",
              "│ transformer_encode… │ (<span style=\"color: #00d7ff; text-decoration-color: #00d7ff\">None</span>, <span style=\"color: #00d7ff; text-decoration-color: #00d7ff\">None</span>, <span style=\"color: #00af00; text-decoration-color: #00af00\">256</span>) │  <span style=\"color: #00af00; text-decoration-color: #00af00\">1,059,598</span> │ transformer_enco… │\n",
              "│ (<span style=\"color: #0087ff; text-decoration-color: #0087ff\">TransformerEncode…</span> │                   │            │ padding_mask_enc… │\n",
              "├─────────────────────┼───────────────────┼────────────┼───────────────────┤\n",
              "│ add_28 (<span style=\"color: #0087ff; text-decoration-color: #0087ff\">Add</span>)        │ (<span style=\"color: #00d7ff; text-decoration-color: #00d7ff\">None</span>, <span style=\"color: #00d7ff; text-decoration-color: #00d7ff\">None</span>, <span style=\"color: #00af00; text-decoration-color: #00af00\">256</span>) │          <span style=\"color: #00af00; text-decoration-color: #00af00\">0</span> │ position_embeddi… │\n",
              "│                     │                   │            │ embedding_28[<span style=\"color: #00af00; text-decoration-color: #00af00\">1</span>][<span style=\"color: #00af00; text-decoration-color: #00af00\">…</span> │\n",
              "├─────────────────────┼───────────────────┼────────────┼───────────────────┤\n",
              "│ padding_mask_dec    │ (<span style=\"color: #00d7ff; text-decoration-color: #00d7ff\">None</span>, <span style=\"color: #00d7ff; text-decoration-color: #00d7ff\">None</span>)      │          <span style=\"color: #00af00; text-decoration-color: #00af00\">0</span> │ -                 │\n",
              "│ (<span style=\"color: #0087ff; text-decoration-color: #0087ff\">InputLayer</span>)        │                   │            │                   │\n",
              "├─────────────────────┼───────────────────┼────────────┼───────────────────┤\n",
              "│ transformer_encode… │ (<span style=\"color: #00d7ff; text-decoration-color: #00d7ff\">None</span>, <span style=\"color: #00d7ff; text-decoration-color: #00d7ff\">None</span>, <span style=\"color: #00af00; text-decoration-color: #00af00\">256</span>) │  <span style=\"color: #00af00; text-decoration-color: #00af00\">1,059,598</span> │ transformer_enco… │\n",
              "│ (<span style=\"color: #0087ff; text-decoration-color: #0087ff\">TransformerEncode…</span> │                   │            │ padding_mask_enc… │\n",
              "├─────────────────────┼───────────────────┼────────────┼───────────────────┤\n",
              "│ transformer_decode… │ (<span style=\"color: #00d7ff; text-decoration-color: #00d7ff\">None</span>, <span style=\"color: #00d7ff; text-decoration-color: #00d7ff\">None</span>, <span style=\"color: #00af00; text-decoration-color: #00af00\">256</span>) │  <span style=\"color: #00af00; text-decoration-color: #00af00\">1,323,278</span> │ add_28[<span style=\"color: #00af00; text-decoration-color: #00af00\">0</span>][<span style=\"color: #00af00; text-decoration-color: #00af00\">0</span>],     │\n",
              "│ (<span style=\"color: #0087ff; text-decoration-color: #0087ff\">TransformerDecode…</span> │                   │            │ padding_mask_dec… │\n",
              "│                     │                   │            │ padding_mask_enc… │\n",
              "│                     │                   │            │ transformer_enco… │\n",
              "├─────────────────────┼───────────────────┼────────────┼───────────────────┤\n",
              "│ transformer_decode… │ (<span style=\"color: #00d7ff; text-decoration-color: #00d7ff\">None</span>, <span style=\"color: #00d7ff; text-decoration-color: #00d7ff\">None</span>, <span style=\"color: #00af00; text-decoration-color: #00af00\">256</span>) │  <span style=\"color: #00af00; text-decoration-color: #00af00\">1,323,278</span> │ transformer_deco… │\n",
              "│ (<span style=\"color: #0087ff; text-decoration-color: #0087ff\">TransformerDecode…</span> │                   │            │ padding_mask_dec… │\n",
              "│                     │                   │            │ padding_mask_enc… │\n",
              "│                     │                   │            │ transformer_enco… │\n",
              "├─────────────────────┼───────────────────┼────────────┼───────────────────┤\n",
              "│ transformer_decode… │ (<span style=\"color: #00d7ff; text-decoration-color: #00d7ff\">None</span>, <span style=\"color: #00d7ff; text-decoration-color: #00d7ff\">None</span>, <span style=\"color: #00af00; text-decoration-color: #00af00\">256</span>) │  <span style=\"color: #00af00; text-decoration-color: #00af00\">1,323,278</span> │ transformer_deco… │\n",
              "│ (<span style=\"color: #0087ff; text-decoration-color: #0087ff\">TransformerDecode…</span> │                   │            │ padding_mask_dec… │\n",
              "│                     │                   │            │ padding_mask_enc… │\n",
              "│                     │                   │            │ transformer_enco… │\n",
              "├─────────────────────┼───────────────────┼────────────┼───────────────────┤\n",
              "│ transformer_decode… │ (<span style=\"color: #00d7ff; text-decoration-color: #00d7ff\">None</span>, <span style=\"color: #00d7ff; text-decoration-color: #00d7ff\">None</span>, <span style=\"color: #00af00; text-decoration-color: #00af00\">256</span>) │  <span style=\"color: #00af00; text-decoration-color: #00af00\">1,323,278</span> │ transformer_deco… │\n",
              "│ (<span style=\"color: #0087ff; text-decoration-color: #0087ff\">TransformerDecode…</span> │                   │            │ padding_mask_dec… │\n",
              "│                     │                   │            │ padding_mask_enc… │\n",
              "│                     │                   │            │ transformer_enco… │\n",
              "├─────────────────────┼───────────────────┼────────────┼───────────────────┤\n",
              "│ transformer_decode… │ (<span style=\"color: #00d7ff; text-decoration-color: #00d7ff\">None</span>, <span style=\"color: #00d7ff; text-decoration-color: #00d7ff\">None</span>, <span style=\"color: #00af00; text-decoration-color: #00af00\">256</span>) │  <span style=\"color: #00af00; text-decoration-color: #00af00\">1,323,278</span> │ transformer_deco… │\n",
              "│ (<span style=\"color: #0087ff; text-decoration-color: #0087ff\">TransformerDecode…</span> │                   │            │ padding_mask_dec… │\n",
              "│                     │                   │            │ padding_mask_enc… │\n",
              "│                     │                   │            │ transformer_enco… │\n",
              "├─────────────────────┼───────────────────┼────────────┼───────────────────┤\n",
              "│ transformer_decode… │ (<span style=\"color: #00d7ff; text-decoration-color: #00d7ff\">None</span>, <span style=\"color: #00d7ff; text-decoration-color: #00d7ff\">None</span>, <span style=\"color: #00af00; text-decoration-color: #00af00\">256</span>) │  <span style=\"color: #00af00; text-decoration-color: #00af00\">1,323,278</span> │ transformer_deco… │\n",
              "│ (<span style=\"color: #0087ff; text-decoration-color: #0087ff\">TransformerDecode…</span> │                   │            │ padding_mask_dec… │\n",
              "│                     │                   │            │ padding_mask_enc… │\n",
              "│                     │                   │            │ transformer_enco… │\n",
              "├─────────────────────┼───────────────────┼────────────┼───────────────────┤\n",
              "│ dense_28 (<span style=\"color: #0087ff; text-decoration-color: #0087ff\">Dense</span>)    │ (<span style=\"color: #00d7ff; text-decoration-color: #00d7ff\">None</span>, <span style=\"color: #00d7ff; text-decoration-color: #00d7ff\">None</span>,      │  <span style=\"color: #00af00; text-decoration-color: #00af00\">2,570,000</span> │ transformer_deco… │\n",
              "│                     │ <span style=\"color: #00af00; text-decoration-color: #00af00\">10000</span>)            │            │                   │\n",
              "└─────────────────────┴───────────────────┴────────────┴───────────────────┘\n",
              "</pre>\n"
            ],
            "text/plain": [
              "┏━━━━━━━━━━━━━━━━━━━━━┳━━━━━━━━━━━━━━━━━━━┳━━━━━━━━━━━━┳━━━━━━━━━━━━━━━━━━━┓\n",
              "┃\u001b[1m \u001b[0m\u001b[1mLayer (type)       \u001b[0m\u001b[1m \u001b[0m┃\u001b[1m \u001b[0m\u001b[1mOutput Shape     \u001b[0m\u001b[1m \u001b[0m┃\u001b[1m \u001b[0m\u001b[1m   Param #\u001b[0m\u001b[1m \u001b[0m┃\u001b[1m \u001b[0m\u001b[1mConnected to     \u001b[0m\u001b[1m \u001b[0m┃\n",
              "┡━━━━━━━━━━━━━━━━━━━━━╇━━━━━━━━━━━━━━━━━━━╇━━━━━━━━━━━━╇━━━━━━━━━━━━━━━━━━━┩\n",
              "│ decoder_inputs      │ (\u001b[38;5;45mNone\u001b[0m, \u001b[38;5;45mNone\u001b[0m)      │          \u001b[38;5;34m0\u001b[0m │ -                 │\n",
              "│ (\u001b[38;5;33mInputLayer\u001b[0m)        │                   │            │                   │\n",
              "├─────────────────────┼───────────────────┼────────────┼───────────────────┤\n",
              "│ encoder_inputs      │ (\u001b[38;5;45mNone\u001b[0m, \u001b[38;5;45mNone\u001b[0m)      │          \u001b[38;5;34m0\u001b[0m │ -                 │\n",
              "│ (\u001b[38;5;33mInputLayer\u001b[0m)        │                   │            │                   │\n",
              "├─────────────────────┼───────────────────┼────────────┼───────────────────┤\n",
              "│ embedding_28        │ (\u001b[38;5;45mNone\u001b[0m, \u001b[38;5;45mNone\u001b[0m, \u001b[38;5;34m256\u001b[0m) │  \u001b[38;5;34m2,560,000\u001b[0m │ encoder_inputs[\u001b[38;5;34m0\u001b[0m… │\n",
              "│ (\u001b[38;5;33mEmbedding\u001b[0m)         │                   │            │ decoder_inputs[\u001b[38;5;34m0\u001b[0m… │\n",
              "├─────────────────────┼───────────────────┼────────────┼───────────────────┤\n",
              "│ padding_mask_enc    │ (\u001b[38;5;45mNone\u001b[0m, \u001b[38;5;45mNone\u001b[0m)      │          \u001b[38;5;34m0\u001b[0m │ -                 │\n",
              "│ (\u001b[38;5;33mInputLayer\u001b[0m)        │                   │            │                   │\n",
              "├─────────────────────┼───────────────────┼────────────┼───────────────────┤\n",
              "│ transformer_encode… │ (\u001b[38;5;45mNone\u001b[0m, \u001b[38;5;45mNone\u001b[0m, \u001b[38;5;34m256\u001b[0m) │  \u001b[38;5;34m1,059,598\u001b[0m │ embedding_28[\u001b[38;5;34m0\u001b[0m][\u001b[38;5;34m…\u001b[0m │\n",
              "│ (\u001b[38;5;33mTransformerEncode…\u001b[0m │                   │            │ padding_mask_enc… │\n",
              "├─────────────────────┼───────────────────┼────────────┼───────────────────┤\n",
              "│ transformer_encode… │ (\u001b[38;5;45mNone\u001b[0m, \u001b[38;5;45mNone\u001b[0m, \u001b[38;5;34m256\u001b[0m) │  \u001b[38;5;34m1,059,598\u001b[0m │ transformer_enco… │\n",
              "│ (\u001b[38;5;33mTransformerEncode…\u001b[0m │                   │            │ padding_mask_enc… │\n",
              "├─────────────────────┼───────────────────┼────────────┼───────────────────┤\n",
              "│ transformer_encode… │ (\u001b[38;5;45mNone\u001b[0m, \u001b[38;5;45mNone\u001b[0m, \u001b[38;5;34m256\u001b[0m) │  \u001b[38;5;34m1,059,598\u001b[0m │ transformer_enco… │\n",
              "│ (\u001b[38;5;33mTransformerEncode…\u001b[0m │                   │            │ padding_mask_enc… │\n",
              "├─────────────────────┼───────────────────┼────────────┼───────────────────┤\n",
              "│ transformer_encode… │ (\u001b[38;5;45mNone\u001b[0m, \u001b[38;5;45mNone\u001b[0m, \u001b[38;5;34m256\u001b[0m) │  \u001b[38;5;34m1,059,598\u001b[0m │ transformer_enco… │\n",
              "│ (\u001b[38;5;33mTransformerEncode…\u001b[0m │                   │            │ padding_mask_enc… │\n",
              "├─────────────────────┼───────────────────┼────────────┼───────────────────┤\n",
              "│ position_embedding… │ (\u001b[38;5;45mNone\u001b[0m, \u001b[38;5;45mNone\u001b[0m, \u001b[38;5;34m256\u001b[0m) │      \u001b[38;5;34m7,168\u001b[0m │ embedding_28[\u001b[38;5;34m1\u001b[0m][\u001b[38;5;34m…\u001b[0m │\n",
              "│ (\u001b[38;5;33mPositionEmbedding\u001b[0m) │                   │            │                   │\n",
              "├─────────────────────┼───────────────────┼────────────┼───────────────────┤\n",
              "│ transformer_encode… │ (\u001b[38;5;45mNone\u001b[0m, \u001b[38;5;45mNone\u001b[0m, \u001b[38;5;34m256\u001b[0m) │  \u001b[38;5;34m1,059,598\u001b[0m │ transformer_enco… │\n",
              "│ (\u001b[38;5;33mTransformerEncode…\u001b[0m │                   │            │ padding_mask_enc… │\n",
              "├─────────────────────┼───────────────────┼────────────┼───────────────────┤\n",
              "│ add_28 (\u001b[38;5;33mAdd\u001b[0m)        │ (\u001b[38;5;45mNone\u001b[0m, \u001b[38;5;45mNone\u001b[0m, \u001b[38;5;34m256\u001b[0m) │          \u001b[38;5;34m0\u001b[0m │ position_embeddi… │\n",
              "│                     │                   │            │ embedding_28[\u001b[38;5;34m1\u001b[0m][\u001b[38;5;34m…\u001b[0m │\n",
              "├─────────────────────┼───────────────────┼────────────┼───────────────────┤\n",
              "│ padding_mask_dec    │ (\u001b[38;5;45mNone\u001b[0m, \u001b[38;5;45mNone\u001b[0m)      │          \u001b[38;5;34m0\u001b[0m │ -                 │\n",
              "│ (\u001b[38;5;33mInputLayer\u001b[0m)        │                   │            │                   │\n",
              "├─────────────────────┼───────────────────┼────────────┼───────────────────┤\n",
              "│ transformer_encode… │ (\u001b[38;5;45mNone\u001b[0m, \u001b[38;5;45mNone\u001b[0m, \u001b[38;5;34m256\u001b[0m) │  \u001b[38;5;34m1,059,598\u001b[0m │ transformer_enco… │\n",
              "│ (\u001b[38;5;33mTransformerEncode…\u001b[0m │                   │            │ padding_mask_enc… │\n",
              "├─────────────────────┼───────────────────┼────────────┼───────────────────┤\n",
              "│ transformer_decode… │ (\u001b[38;5;45mNone\u001b[0m, \u001b[38;5;45mNone\u001b[0m, \u001b[38;5;34m256\u001b[0m) │  \u001b[38;5;34m1,323,278\u001b[0m │ add_28[\u001b[38;5;34m0\u001b[0m][\u001b[38;5;34m0\u001b[0m],     │\n",
              "│ (\u001b[38;5;33mTransformerDecode…\u001b[0m │                   │            │ padding_mask_dec… │\n",
              "│                     │                   │            │ padding_mask_enc… │\n",
              "│                     │                   │            │ transformer_enco… │\n",
              "├─────────────────────┼───────────────────┼────────────┼───────────────────┤\n",
              "│ transformer_decode… │ (\u001b[38;5;45mNone\u001b[0m, \u001b[38;5;45mNone\u001b[0m, \u001b[38;5;34m256\u001b[0m) │  \u001b[38;5;34m1,323,278\u001b[0m │ transformer_deco… │\n",
              "│ (\u001b[38;5;33mTransformerDecode…\u001b[0m │                   │            │ padding_mask_dec… │\n",
              "│                     │                   │            │ padding_mask_enc… │\n",
              "│                     │                   │            │ transformer_enco… │\n",
              "├─────────────────────┼───────────────────┼────────────┼───────────────────┤\n",
              "│ transformer_decode… │ (\u001b[38;5;45mNone\u001b[0m, \u001b[38;5;45mNone\u001b[0m, \u001b[38;5;34m256\u001b[0m) │  \u001b[38;5;34m1,323,278\u001b[0m │ transformer_deco… │\n",
              "│ (\u001b[38;5;33mTransformerDecode…\u001b[0m │                   │            │ padding_mask_dec… │\n",
              "│                     │                   │            │ padding_mask_enc… │\n",
              "│                     │                   │            │ transformer_enco… │\n",
              "├─────────────────────┼───────────────────┼────────────┼───────────────────┤\n",
              "│ transformer_decode… │ (\u001b[38;5;45mNone\u001b[0m, \u001b[38;5;45mNone\u001b[0m, \u001b[38;5;34m256\u001b[0m) │  \u001b[38;5;34m1,323,278\u001b[0m │ transformer_deco… │\n",
              "│ (\u001b[38;5;33mTransformerDecode…\u001b[0m │                   │            │ padding_mask_dec… │\n",
              "│                     │                   │            │ padding_mask_enc… │\n",
              "│                     │                   │            │ transformer_enco… │\n",
              "├─────────────────────┼───────────────────┼────────────┼───────────────────┤\n",
              "│ transformer_decode… │ (\u001b[38;5;45mNone\u001b[0m, \u001b[38;5;45mNone\u001b[0m, \u001b[38;5;34m256\u001b[0m) │  \u001b[38;5;34m1,323,278\u001b[0m │ transformer_deco… │\n",
              "│ (\u001b[38;5;33mTransformerDecode…\u001b[0m │                   │            │ padding_mask_dec… │\n",
              "│                     │                   │            │ padding_mask_enc… │\n",
              "│                     │                   │            │ transformer_enco… │\n",
              "├─────────────────────┼───────────────────┼────────────┼───────────────────┤\n",
              "│ transformer_decode… │ (\u001b[38;5;45mNone\u001b[0m, \u001b[38;5;45mNone\u001b[0m, \u001b[38;5;34m256\u001b[0m) │  \u001b[38;5;34m1,323,278\u001b[0m │ transformer_deco… │\n",
              "│ (\u001b[38;5;33mTransformerDecode…\u001b[0m │                   │            │ padding_mask_dec… │\n",
              "│                     │                   │            │ padding_mask_enc… │\n",
              "│                     │                   │            │ transformer_enco… │\n",
              "├─────────────────────┼───────────────────┼────────────┼───────────────────┤\n",
              "│ dense_28 (\u001b[38;5;33mDense\u001b[0m)    │ (\u001b[38;5;45mNone\u001b[0m, \u001b[38;5;45mNone\u001b[0m,      │  \u001b[38;5;34m2,570,000\u001b[0m │ transformer_deco… │\n",
              "│                     │ \u001b[38;5;34m10000\u001b[0m)            │            │                   │\n",
              "└─────────────────────┴───────────────────┴────────────┴───────────────────┘\n"
            ]
          },
          "metadata": {}
        },
        {
          "output_type": "display_data",
          "data": {
            "text/html": [
              "<pre style=\"white-space:pre;overflow-x:auto;line-height:normal;font-family:Menlo,'DejaVu Sans Mono',consolas,'Courier New',monospace\"><span style=\"font-weight: bold\"> Total params: </span><span style=\"color: #00af00; text-decoration-color: #00af00\">19,434,424</span> (74.14 MB)\n",
              "</pre>\n"
            ],
            "text/plain": [
              "\u001b[1m Total params: \u001b[0m\u001b[38;5;34m19,434,424\u001b[0m (74.14 MB)\n"
            ]
          },
          "metadata": {}
        },
        {
          "output_type": "display_data",
          "data": {
            "text/html": [
              "<pre style=\"white-space:pre;overflow-x:auto;line-height:normal;font-family:Menlo,'DejaVu Sans Mono',consolas,'Courier New',monospace\"><span style=\"font-weight: bold\"> Trainable params: </span><span style=\"color: #00af00; text-decoration-color: #00af00\">19,434,424</span> (74.14 MB)\n",
              "</pre>\n"
            ],
            "text/plain": [
              "\u001b[1m Trainable params: \u001b[0m\u001b[38;5;34m19,434,424\u001b[0m (74.14 MB)\n"
            ]
          },
          "metadata": {}
        },
        {
          "output_type": "display_data",
          "data": {
            "text/html": [
              "<pre style=\"white-space:pre;overflow-x:auto;line-height:normal;font-family:Menlo,'DejaVu Sans Mono',consolas,'Courier New',monospace\"><span style=\"font-weight: bold\"> Non-trainable params: </span><span style=\"color: #00af00; text-decoration-color: #00af00\">0</span> (0.00 B)\n",
              "</pre>\n"
            ],
            "text/plain": [
              "\u001b[1m Non-trainable params: \u001b[0m\u001b[38;5;34m0\u001b[0m (0.00 B)\n"
            ]
          },
          "metadata": {}
        },
        {
          "name": "stdout",
          "output_type": "stream",
          "text": "Epoch 1/200\n"
        },
        {
          "name": "stderr",
          "output_type": "stream",
          "text": "/home/zeus/miniconda3/envs/cloudspace/lib/python3.10/site-packages/keras/src/trainers/data_adapters/py_dataset_adapter.py:120: UserWarning: Your `PyDataset` class should call `super().__init__(**kwargs)` in its constructor. `**kwargs` can include `workers`, `use_multiprocessing`, `max_queue_size`. Do not pass these arguments to `fit()`, as they will be ignored.\n\n  self._warn_if_super_not_called()\n\nW0000 00:00:1718048761.114022    8384 assert_op.cc:38] Ignoring Assert operator compile_loss/masked_loss/sparse_categorical_crossentropy/SparseSoftmaxCrossEntropyWithLogits/assert_equal_1/Assert/Assert\n\nI0000 00:00:1718048850.659306    8384 asm_compiler.cc:369] ptxas warning : Registers are spilled to local memory in function 'loop_add_subtract_fusion_80', 168 bytes spill stores, 168 bytes spill loads\n\nptxas warning : Registers are spilled to local memory in function 'loop_add_subtract_fusion_77', 48 bytes spill stores, 48 bytes spill loads\n\n\n"
        },
        {
          "name": "stdout",
          "output_type": "stream",
          "text": "\u001b[1m1085/1085\u001b[0m \u001b[32m━━━━━━━━━━━━━━━━━━━━\u001b[0m\u001b[37m\u001b[0m \u001b[1m0s\u001b[0m 73ms/step - loss: 5.8896 - masked_accuracy: 0.2630"
        },
        {
          "name": "stderr",
          "output_type": "stream",
          "text": "/home/zeus/miniconda3/envs/cloudspace/lib/python3.10/site-packages/keras/src/ops/nn.py:545: UserWarning: You are using a softmax over axis 3 of a tensor of shape (1000, 8, 1, 1). This axis has size 1. The softmax operation will always return the value 1, which is likely not what you intended. Did you mean to use a sigmoid instead?\n\n  warnings.warn(\n"
        },
        {
          "name": "stdout",
          "output_type": "stream",
          "text": "\n\nValidation Score after batch 1: 0.3733248206567494\n\n\n\nValidation Score after batch 2: 0.37327319030099393\n\n\n\nValidation Score after batch 3: 0.37435333301787105\n\n\u001b[1m1085/1085\u001b[0m \u001b[32m━━━━━━━━━━━━━━━━━━━━\u001b[0m\u001b[37m\u001b[0m \u001b[1m241s\u001b[0m 116ms/step - loss: 5.8888 - masked_accuracy: 0.2631 - val_score: 0.3744\n\nEpoch 2/200\n\n\u001b[1m1085/1085\u001b[0m \u001b[32m━━━━━━━━━━━━━━━━━━━━\u001b[0m\u001b[37m\u001b[0m \u001b[1m0s\u001b[0m 74ms/step - loss: 3.5163 - masked_accuracy: 0.6691\n\nValidation Score after batch 1: 0.4186246587297341\n\n\n\nValidation Score after batch 2: 0.41462534626975434\n\n\n\nValidation Score after batch 3: 0.41790206841907834\n\n\u001b[1m1085/1085\u001b[0m \u001b[32m━━━━━━━━━━━━━━━━━━━━\u001b[0m\u001b[37m\u001b[0m \u001b[1m127s\u001b[0m 117ms/step - loss: 3.5162 - masked_accuracy: 0.6691 - val_score: 0.4179\n\nEpoch 3/200\n\n\u001b[1m1085/1085\u001b[0m \u001b[32m━━━━━━━━━━━━━━━━━━━━\u001b[0m\u001b[37m\u001b[0m \u001b[1m0s\u001b[0m 74ms/step - loss: 3.1344 - masked_accuracy: 0.7584\n\nValidation Score after batch 1: 0.4501660724277956\n\n\n\nValidation Score after batch 2: 0.4460021108407554\n\n\n\nValidation Score after batch 3: 0.4455957087568995\n\n\u001b[1m1085/1085\u001b[0m \u001b[32m━━━━━━━━━━━━━━━━━━━━\u001b[0m\u001b[37m\u001b[0m \u001b[1m127s\u001b[0m 117ms/step - loss: 3.1343 - masked_accuracy: 0.7584 - val_score: 0.4456\n\nEpoch 4/200\n\n\u001b[1m1085/1085\u001b[0m \u001b[32m━━━━━━━━━━━━━━━━━━━━\u001b[0m\u001b[37m\u001b[0m \u001b[1m0s\u001b[0m 74ms/step - loss: 3.0059 - masked_accuracy: 0.7922\n\nValidation Score after batch 1: 0.4812291014173816\n\n\n\nValidation Score after batch 2: 0.4721431426398899\n\n\n\nValidation Score after batch 3: 0.4723056349623503\n\n\u001b[1m1085/1085\u001b[0m \u001b[32m━━━━━━━━━━━━━━━━━━━━\u001b[0m\u001b[37m\u001b[0m \u001b[1m129s\u001b[0m 119ms/step - loss: 3.0059 - masked_accuracy: 0.7922 - val_score: 0.4723\n\nEpoch 5/200\n\n\u001b[1m1085/1085\u001b[0m \u001b[32m━━━━━━━━━━━━━━━━━━━━\u001b[0m\u001b[37m\u001b[0m \u001b[1m0s\u001b[0m 74ms/step - loss: 2.9246 - masked_accuracy: 0.8161\n\nValidation Score after batch 1: 0.4988881271492513\n\n\n\nValidation Score after batch 2: 0.4942667984883136\n\n\n\nValidation Score after batch 3: 0.4905504450775516\n\n\u001b[1m1085/1085\u001b[0m \u001b[32m━━━━━━━━━━━━━━━━━━━━\u001b[0m\u001b[37m\u001b[0m \u001b[1m127s\u001b[0m 117ms/step - loss: 2.9246 - masked_accuracy: 0.8161 - val_score: 0.4906\n\nEpoch 6/200\n\n\u001b[1m1085/1085\u001b[0m \u001b[32m━━━━━━━━━━━━━━━━━━━━\u001b[0m\u001b[37m\u001b[0m \u001b[1m0s\u001b[0m 74ms/step - loss: 2.8695 - masked_accuracy: 0.8329\n\nValidation Score after batch 1: 0.502883069528301\n\n\n\nValidation Score after batch 2: 0.498965602046753\n\n\n\nValidation Score after batch 3: 0.4964242609254244\n\n\u001b[1m1085/1085\u001b[0m \u001b[32m━━━━━━━━━━━━━━━━━━━━\u001b[0m\u001b[37m\u001b[0m \u001b[1m127s\u001b[0m 117ms/step - loss: 2.8695 - masked_accuracy: 0.8329 - val_score: 0.4964\n\nEpoch 7/200\n\n\u001b[1m1085/1085\u001b[0m \u001b[32m━━━━━━━━━━━━━━━━━━━━\u001b[0m\u001b[37m\u001b[0m \u001b[1m0s\u001b[0m 74ms/step - loss: 2.8240 - masked_accuracy: 0.8483\n\nValidation Score after batch 1: 0.5156868152486612\n\n\n\nValidation Score after batch 2: 0.5081487461214014\n\n\n\nValidation Score after batch 3: 0.5054237753432379\n\n\u001b[1m1085/1085\u001b[0m \u001b[32m━━━━━━━━━━━━━━━━━━━━\u001b[0m\u001b[37m\u001b[0m \u001b[1m127s\u001b[0m 117ms/step - loss: 2.8240 - masked_accuracy: 0.8483 - val_score: 0.5054\n\nEpoch 8/200\n\n\u001b[1m1085/1085\u001b[0m \u001b[32m━━━━━━━━━━━━━━━━━━━━\u001b[0m\u001b[37m\u001b[0m \u001b[1m0s\u001b[0m 74ms/step - loss: 2.7870 - masked_accuracy: 0.8623\n\nValidation Score after batch 1: 0.5259948621255153\n\n\n\nValidation Score after batch 2: 0.5234893113666462\n\n\n\nValidation Score after batch 3: 0.5206057988571854\n\n\u001b[1m1085/1085\u001b[0m \u001b[32m━━━━━━━━━━━━━━━━━━━━\u001b[0m\u001b[37m\u001b[0m \u001b[1m128s\u001b[0m 118ms/step - loss: 2.7870 - masked_accuracy: 0.8623 - val_score: 0.5206\n\nEpoch 9/200\n\n\u001b[1m1085/1085\u001b[0m \u001b[32m━━━━━━━━━━━━━━━━━━━━\u001b[0m\u001b[37m\u001b[0m \u001b[1m0s\u001b[0m 74ms/step - loss: 2.7567 - masked_accuracy: 0.8741\n\nValidation Score after batch 1: 0.5315711628677333\n\n\n\nValidation Score after batch 2: 0.5267023431216438\n\n\n\nValidation Score after batch 3: 0.5251793953528735\n\n\u001b[1m1085/1085\u001b[0m \u001b[32m━━━━━━━━━━━━━━━━━━━━\u001b[0m\u001b[37m\u001b[0m \u001b[1m127s\u001b[0m 117ms/step - loss: 2.7567 - masked_accuracy: 0.8741 - val_score: 0.5252\n\nEpoch 10/200\n\n\u001b[1m1085/1085\u001b[0m \u001b[32m━━━━━━━━━━━━━━━━━━━━\u001b[0m\u001b[37m\u001b[0m \u001b[1m0s\u001b[0m 74ms/step - loss: 2.7281 - masked_accuracy: 0.8859\n\nValidation Score after batch 1: 0.5391469362443949\n\n\n\nValidation Score after batch 2: 0.5330932520259487\n\n\n\nValidation Score after batch 3: 0.5314359793739333\n\n\u001b[1m1085/1085\u001b[0m \u001b[32m━━━━━━━━━━━━━━━━━━━━\u001b[0m\u001b[37m\u001b[0m \u001b[1m127s\u001b[0m 117ms/step - loss: 2.7281 - masked_accuracy: 0.8859 - val_score: 0.5314\n\nEpoch 11/200\n\n\u001b[1m1085/1085\u001b[0m \u001b[32m━━━━━━━━━━━━━━━━━━━━\u001b[0m\u001b[37m\u001b[0m \u001b[1m0s\u001b[0m 73ms/step - loss: 2.7052 - masked_accuracy: 0.8961\n\nValidation Score after batch 1: 0.5440017221267422\n\n\n\nValidation Score after batch 2: 0.5405791686340651\n\n\n\nValidation Score after batch 3: 0.5315543438720249\n\n\u001b[1m1085/1085\u001b[0m \u001b[32m━━━━━━━━━━━━━━━━━━━━\u001b[0m\u001b[37m\u001b[0m \u001b[1m127s\u001b[0m 117ms/step - loss: 2.7052 - masked_accuracy: 0.8961 - val_score: 0.5316\n\nEpoch 12/200\n\n\u001b[1m1085/1085\u001b[0m \u001b[32m━━━━━━━━━━━━━━━━━━━━\u001b[0m\u001b[37m\u001b[0m \u001b[1m0s\u001b[0m 74ms/step - loss: 2.6836 - masked_accuracy: 0.9053\n\nValidation Score after batch 1: 0.5494436485331012\n\n\n\nValidation Score after batch 2: 0.5431263474511911\n\n\n\nValidation Score after batch 3: 0.5417712732167915\n\n\u001b[1m1085/1085\u001b[0m \u001b[32m━━━━━━━━━━━━━━━━━━━━\u001b[0m\u001b[37m\u001b[0m \u001b[1m128s\u001b[0m 118ms/step - loss: 2.6836 - masked_accuracy: 0.9053 - val_score: 0.5418\n\nEpoch 13/200\n\n\u001b[1m1085/1085\u001b[0m \u001b[32m━━━━━━━━━━━━━━━━━━━━\u001b[0m\u001b[37m\u001b[0m \u001b[1m0s\u001b[0m 73ms/step - loss: 2.6638 - masked_accuracy: 0.9150\n\nValidation Score after batch 1: 0.5565411657288227\n\n\n\nValidation Score after batch 2: 0.550547628447935\n\n\n\nValidation Score after batch 3: 0.5475514638451523\n\n\u001b[1m1085/1085\u001b[0m \u001b[32m━━━━━━━━━━━━━━━━━━━━\u001b[0m\u001b[37m\u001b[0m \u001b[1m126s\u001b[0m 116ms/step - loss: 2.6638 - masked_accuracy: 0.9150 - val_score: 0.5476\n\nEpoch 14/200\n\n\u001b[1m1085/1085\u001b[0m \u001b[32m━━━━━━━━━━━━━━━━━━━━\u001b[0m\u001b[37m\u001b[0m \u001b[1m0s\u001b[0m 74ms/step - loss: 2.6466 - masked_accuracy: 0.9232\n\nValidation Score after batch 1: 0.5685229286885857\n\n\n\nValidation Score after batch 2: 0.5649219545364598\n\n\n\nValidation Score after batch 3: 0.5581234620504884\n\n\u001b[1m1085/1085\u001b[0m \u001b[32m━━━━━━━━━━━━━━━━━━━━\u001b[0m\u001b[37m\u001b[0m \u001b[1m127s\u001b[0m 117ms/step - loss: 2.6466 - masked_accuracy: 0.9232 - val_score: 0.5581\n\nEpoch 15/200\n\n\u001b[1m1085/1085\u001b[0m \u001b[32m━━━━━━━━━━━━━━━━━━━━\u001b[0m\u001b[37m\u001b[0m \u001b[1m0s\u001b[0m 74ms/step - loss: 2.6303 - masked_accuracy: 0.9316\n\nValidation Score after batch 1: 0.5587684808180458\n\n\n\nValidation Score after batch 2: 0.5576788518124468\n\n\n\nValidation Score after batch 3: 0.553158883887272\n\n\u001b[1m1085/1085\u001b[0m \u001b[32m━━━━━━━━━━━━━━━━━━━━\u001b[0m\u001b[37m\u001b[0m \u001b[1m126s\u001b[0m 116ms/step - loss: 2.6303 - masked_accuracy: 0.9316 - val_score: 0.5532\n\nEpoch 16/200\n\n\u001b[1m1085/1085\u001b[0m \u001b[32m━━━━━━━━━━━━━━━━━━━━\u001b[0m\u001b[37m\u001b[0m \u001b[1m0s\u001b[0m 72ms/step - loss: 2.6151 - masked_accuracy: 0.9390\n\nValidation Score after batch 1: 0.5594533874040399\n\n\n\nValidation Score after batch 2: 0.5536740338403372\n\n\n\nValidation Score after batch 3: 0.5534430123166706\n\n\u001b[1m1085/1085\u001b[0m \u001b[32m━━━━━━━━━━━━━━━━━━━━\u001b[0m\u001b[37m\u001b[0m \u001b[1m125s\u001b[0m 116ms/step - loss: 2.6151 - masked_accuracy: 0.9390 - val_score: 0.5534\n\nEpoch 17/200\n\n\u001b[1m1085/1085\u001b[0m \u001b[32m━━━━━━━━━━━━━━━━━━━━\u001b[0m\u001b[37m\u001b[0m \u001b[1m0s\u001b[0m 73ms/step - loss: 2.6015 - masked_accuracy: 0.9463\n\nValidation Score after batch 1: 0.5593440157512204\n\n\n\nValidation Score after batch 2: 0.5588742434357185\n\n\n\nValidation Score after batch 3: 0.5588307855736147\n\n\u001b[1m1085/1085\u001b[0m \u001b[32m━━━━━━━━━━━━━━━━━━━━\u001b[0m\u001b[37m\u001b[0m \u001b[1m127s\u001b[0m 117ms/step - loss: 2.6015 - masked_accuracy: 0.9462 - val_score: 0.5588\n\nEpoch 18/200\n\n\u001b[1m1085/1085\u001b[0m \u001b[32m━━━━━━━━━━━━━━━━━━━━\u001b[0m\u001b[37m\u001b[0m \u001b[1m0s\u001b[0m 73ms/step - loss: 2.5889 - masked_accuracy: 0.9531\n\nValidation Score after batch 1: 0.5680063628080056\n\n\n\nValidation Score after batch 2: 0.5638003876366471\n\n\n\nValidation Score after batch 3: 0.5627663159731843\n\n\u001b[1m1085/1085\u001b[0m \u001b[32m━━━━━━━━━━━━━━━━━━━━\u001b[0m\u001b[37m\u001b[0m \u001b[1m126s\u001b[0m 116ms/step - loss: 2.5889 - masked_accuracy: 0.9531 - val_score: 0.5628\n\nEpoch 19/200\n\n\u001b[1m1085/1085\u001b[0m \u001b[32m━━━━━━━━━━━━━━━━━━━━\u001b[0m\u001b[37m\u001b[0m \u001b[1m0s\u001b[0m 73ms/step - loss: 2.5786 - masked_accuracy: 0.9592\n\nValidation Score after batch 1: 0.5650700961331713\n\n\n\nValidation Score after batch 2: 0.5670172386999452\n\n\n\nValidation Score after batch 3: 0.5637304797365781\n\n\u001b[1m1085/1085\u001b[0m \u001b[32m━━━━━━━━━━━━━━━━━━━━\u001b[0m\u001b[37m\u001b[0m \u001b[1m126s\u001b[0m 117ms/step - loss: 2.5786 - masked_accuracy: 0.9592 - val_score: 0.5637\n\nEpoch 20/200\n\n\u001b[1m1085/1085\u001b[0m \u001b[32m━━━━━━━━━━━━━━━━━━━━\u001b[0m\u001b[37m\u001b[0m \u001b[1m0s\u001b[0m 73ms/step - loss: 2.5686 - masked_accuracy: 0.9646\n\nValidation Score after batch 1: 0.5707488838950915\n\n\n\nValidation Score after batch 2: 0.5689812796754797\n\n\n\nValidation Score after batch 3: 0.5666933841615238\n\n\u001b[1m1085/1085\u001b[0m \u001b[32m━━━━━━━━━━━━━━━━━━━━\u001b[0m\u001b[37m\u001b[0m \u001b[1m126s\u001b[0m 116ms/step - loss: 2.5686 - masked_accuracy: 0.9646 - val_score: 0.5667\n\nEpoch 21/200\n\n\u001b[1m1085/1085\u001b[0m \u001b[32m━━━━━━━━━━━━━━━━━━━━\u001b[0m\u001b[37m\u001b[0m \u001b[1m0s\u001b[0m 73ms/step - loss: 2.5604 - masked_accuracy: 0.9688\n\nValidation Score after batch 1: 0.5671600880674522\n\n\n\nValidation Score after batch 2: 0.5695634335482582\n\n\n\nValidation Score after batch 3: 0.5679460355054637\n\n\u001b[1m1085/1085\u001b[0m \u001b[32m━━━━━━━━━━━━━━━━━━━━\u001b[0m\u001b[37m\u001b[0m \u001b[1m126s\u001b[0m 116ms/step - loss: 2.5604 - masked_accuracy: 0.9688 - val_score: 0.5679\n\nEpoch 22/200\n\n\u001b[1m1085/1085\u001b[0m \u001b[32m━━━━━━━━━━━━━━━━━━━━\u001b[0m\u001b[37m\u001b[0m \u001b[1m0s\u001b[0m 73ms/step - loss: 2.5533 - masked_accuracy: 0.9729\n\nValidation Score after batch 1: 0.5711973650668398\n\n\n\nValidation Score after batch 2: 0.5715504941631421\n\n\n\nValidation Score after batch 3: 0.5698719261505748\n\n\u001b[1m1085/1085\u001b[0m \u001b[32m━━━━━━━━━━━━━━━━━━━━\u001b[0m\u001b[37m\u001b[0m \u001b[1m127s\u001b[0m 117ms/step - loss: 2.5533 - masked_accuracy: 0.9729 - val_score: 0.5699\n\nEpoch 23/200\n\n\u001b[1m1085/1085\u001b[0m \u001b[32m━━━━━━━━━━━━━━━━━━━━\u001b[0m\u001b[37m\u001b[0m \u001b[1m0s\u001b[0m 73ms/step - loss: 2.5478 - masked_accuracy: 0.9760\n\nValidation Score after batch 1: 0.5639224989180052\n\n\n\nValidation Score after batch 2: 0.5648932881522635\n\n\n\nValidation Score after batch 3: 0.5675169030797947\n\n\u001b[1m1085/1085\u001b[0m \u001b[32m━━━━━━━━━━━━━━━━━━━━\u001b[0m\u001b[37m\u001b[0m \u001b[1m126s\u001b[0m 116ms/step - loss: 2.5478 - masked_accuracy: 0.9760 - val_score: 0.5675\n\nEpoch 24/200\n\n\u001b[1m1085/1085\u001b[0m \u001b[32m━━━━━━━━━━━━━━━━━━━━\u001b[0m\u001b[37m\u001b[0m \u001b[1m0s\u001b[0m 74ms/step - loss: 2.5431 - masked_accuracy: 0.9787\n\nValidation Score after batch 1: 0.5664309121581396\n\n\n\nValidation Score after batch 2: 0.5678555954266103\n\n\n\nValidation Score after batch 3: 0.5671832504639672\n\n\u001b[1m1085/1085\u001b[0m \u001b[32m━━━━━━━━━━━━━━━━━━━━\u001b[0m\u001b[37m\u001b[0m \u001b[1m126s\u001b[0m 117ms/step - loss: 2.5431 - masked_accuracy: 0.9787 - val_score: 0.5672\n\nEpoch 25/200\n\n\u001b[1m1085/1085\u001b[0m \u001b[32m━━━━━━━━━━━━━━━━━━━━\u001b[0m\u001b[37m\u001b[0m \u001b[1m0s\u001b[0m 74ms/step - loss: 2.5406 - masked_accuracy: 0.9800\n\nValidation Score after batch 1: 0.5666704610535006\n\n\n\nValidation Score after batch 2: 0.5692718677760504\n\n\n\nValidation Score after batch 3: 0.5689147013199575\n\n\u001b[1m1085/1085\u001b[0m \u001b[32m━━━━━━━━━━━━━━━━━━━━\u001b[0m\u001b[37m\u001b[0m \u001b[1m126s\u001b[0m 116ms/step - loss: 2.5406 - masked_accuracy: 0.9800 - val_score: 0.5689\n\nEpoch 26/200\n\n\u001b[1m1085/1085\u001b[0m \u001b[32m━━━━━━━━━━━━━━━━━━━━\u001b[0m\u001b[37m\u001b[0m \u001b[1m0s\u001b[0m 74ms/step - loss: 2.5385 - masked_accuracy: 0.9814\n\nValidation Score after batch 1: 0.5702055373189823\n\n\n\nValidation Score after batch 2: 0.5704059140064539\n\n\n\nValidation Score after batch 3: 0.5694735115388578\n\n\u001b[1m1085/1085\u001b[0m \u001b[32m━━━━━━━━━━━━━━━━━━━━\u001b[0m\u001b[37m\u001b[0m \u001b[1m127s\u001b[0m 117ms/step - loss: 2.5385 - masked_accuracy: 0.9814 - val_score: 0.5695\n\nEpoch 27/200\n\n\u001b[1m1085/1085\u001b[0m \u001b[32m━━━━━━━━━━━━━━━━━━━━\u001b[0m\u001b[37m\u001b[0m \u001b[1m0s\u001b[0m 73ms/step - loss: 2.5372 - masked_accuracy: 0.9818\n\nValidation Score after batch 1: 0.568291647679986\n\n\n\nValidation Score after batch 2: 0.5693940306968688\n\n\n\nValidation Score after batch 3: 0.5687711783205593\n\n\u001b[1m1085/1085\u001b[0m \u001b[32m━━━━━━━━━━━━━━━━━━━━\u001b[0m\u001b[37m\u001b[0m \u001b[1m126s\u001b[0m 116ms/step - loss: 2.5372 - masked_accuracy: 0.9818 - val_score: 0.5688\n\nEpoch 28/200\n\n\u001b[1m1085/1085\u001b[0m \u001b[32m━━━━━━━━━━━━━━━━━━━━\u001b[0m\u001b[37m\u001b[0m \u001b[1m0s\u001b[0m 74ms/step - loss: 2.5367 - masked_accuracy: 0.9822\n\nValidation Score after batch 1: 0.568494744881126\n\n\n\nValidation Score after batch 2: 0.5698560249514344\n\n\n\nValidation Score after batch 3: 0.5700660608254497\n\n\u001b[1m1085/1085\u001b[0m \u001b[32m━━━━━━━━━━━━━━━━━━━━\u001b[0m\u001b[37m\u001b[0m \u001b[1m127s\u001b[0m 117ms/step - loss: 2.5367 - masked_accuracy: 0.9822 - val_score: 0.5701\n\nEpoch 29/200\n\n\u001b[1m1085/1085\u001b[0m \u001b[32m━━━━━━━━━━━━━━━━━━━━\u001b[0m\u001b[37m\u001b[0m \u001b[1m0s\u001b[0m 73ms/step - loss: 2.5365 - masked_accuracy: 0.9823\n\nValidation Score after batch 1: 0.568022302931682\n\n\n\nValidation Score after batch 2: 0.5686151160439551\n\n\n\nValidation Score after batch 3: 0.5688866455311617\n\n\u001b[1m1085/1085\u001b[0m \u001b[32m━━━━━━━━━━━━━━━━━━━━\u001b[0m\u001b[37m\u001b[0m \u001b[1m126s\u001b[0m 116ms/step - loss: 2.5365 - masked_accuracy: 0.9823 - val_score: 0.5689\n\nEpoch 30/200\n\n\u001b[1m1085/1085\u001b[0m \u001b[32m━━━━━━━━━━━━━━━━━━━━\u001b[0m\u001b[37m\u001b[0m \u001b[1m0s\u001b[0m 74ms/step - loss: 2.5359 - masked_accuracy: 0.9825\n\nValidation Score after batch 1: 0.5699532302053696\n\n\n\nValidation Score after batch 2: 0.5692289688881357\n\n\n\nValidation Score after batch 3: 0.5702065988925248\n\n\u001b[1m1085/1085\u001b[0m \u001b[32m━━━━━━━━━━━━━━━━━━━━\u001b[0m\u001b[37m\u001b[0m \u001b[1m128s\u001b[0m 118ms/step - loss: 2.5359 - masked_accuracy: 0.9825 - val_score: 0.5702\n\nEpoch 31/200\n\n\u001b[1m1085/1085\u001b[0m \u001b[32m━━━━━━━━━━━━━━━━━━━━\u001b[0m\u001b[37m\u001b[0m \u001b[1m0s\u001b[0m 74ms/step - loss: 2.5361 - masked_accuracy: 0.9825\n\nValidation Score after batch 1: 0.5691291292623876\n\n\n\nValidation Score after batch 2: 0.5686793281188293\n\n\n\nValidation Score after batch 3: 0.569456769466902\n\n\u001b[1m1085/1085\u001b[0m \u001b[32m━━━━━━━━━━━━━━━━━━━━\u001b[0m\u001b[37m\u001b[0m \u001b[1m126s\u001b[0m 117ms/step - loss: 2.5361 - masked_accuracy: 0.9825 - val_score: 0.5695\n\nEpoch 32/200\n\n\u001b[1m1085/1085\u001b[0m \u001b[32m━━━━━━━━━━━━━━━━━━━━\u001b[0m\u001b[37m\u001b[0m \u001b[1m0s\u001b[0m 73ms/step - loss: 2.5354 - masked_accuracy: 0.9828\n\nValidation Score after batch 1: 0.5700834444990819\n\n\n\nValidation Score after batch 2: 0.5688067221029512\n\n\n\nValidation Score after batch 3: 0.5694567331398499\n\n\u001b[1m1085/1085\u001b[0m \u001b[32m━━━━━━━━━━━━━━━━━━━━\u001b[0m\u001b[37m\u001b[0m \u001b[1m126s\u001b[0m 116ms/step - loss: 2.5354 - masked_accuracy: 0.9828 - val_score: 0.5695\n\nEpoch 33/200\n\n\u001b[1m1085/1085\u001b[0m \u001b[32m━━━━━━━━━━━━━━━━━━━━\u001b[0m\u001b[37m\u001b[0m \u001b[1m0s\u001b[0m 73ms/step - loss: 2.5350 - masked_accuracy: 0.9827\n\nValidation Score after batch 1: 0.5680425359951938\n\n\n\nValidation Score after batch 2: 0.5688211649459033\n\n\n\nValidation Score after batch 3: 0.5700876249961676\n\n\u001b[1m1085/1085\u001b[0m \u001b[32m━━━━━━━━━━━━━━━━━━━━\u001b[0m\u001b[37m\u001b[0m \u001b[1m126s\u001b[0m 116ms/step - loss: 2.5350 - masked_accuracy: 0.9827 - val_score: 0.5701\n\nEpoch 34/200\n\n\u001b[1m1085/1085\u001b[0m \u001b[32m━━━━━━━━━━━━━━━━━━━━\u001b[0m\u001b[37m\u001b[0m \u001b[1m0s\u001b[0m 73ms/step - loss: 2.5352 - masked_accuracy: 0.9831\n\nValidation Score after batch 1: 0.5696255370099094\n\n\n\nValidation Score after batch 2: 0.5690395277224266\n\n\n\nValidation Score after batch 3: 0.5690515808535365\n\n\u001b[1m1085/1085\u001b[0m \u001b[32m━━━━━━━━━━━━━━━━━━━━\u001b[0m\u001b[37m\u001b[0m \u001b[1m126s\u001b[0m 116ms/step - loss: 2.5352 - masked_accuracy: 0.9831 - val_score: 0.5691\n\nEpoch 35/200\n\n\u001b[1m1085/1085\u001b[0m \u001b[32m━━━━━━━━━━━━━━━━━━━━\u001b[0m\u001b[37m\u001b[0m \u001b[1m0s\u001b[0m 73ms/step - loss: 2.5343 - masked_accuracy: 0.9832\n\nValidation Score after batch 1: 0.5701879890881097\n\n\n\nValidation Score after batch 2: 0.5701439837117855\n\n\n\nValidation Score after batch 3: 0.5700777434765758\n\n\u001b[1m1085/1085\u001b[0m \u001b[32m━━━━━━━━━━━━━━━━━━━━\u001b[0m\u001b[37m\u001b[0m \u001b[1m126s\u001b[0m 116ms/step - loss: 2.5343 - masked_accuracy: 0.9832 - val_score: 0.5701\n\nEpoch 36/200\n\n\u001b[1m1085/1085\u001b[0m \u001b[32m━━━━━━━━━━━━━━━━━━━━\u001b[0m\u001b[37m\u001b[0m \u001b[1m0s\u001b[0m 73ms/step - loss: 2.5345 - masked_accuracy: 0.9835\n\nValidation Score after batch 1: 0.5688167986035643\n\n\n\nValidation Score after batch 2: 0.5686484293802435\n\n\n\nValidation Score after batch 3: 0.5695184006491344\n\n\u001b[1m1085/1085\u001b[0m \u001b[32m━━━━━━━━━━━━━━━━━━━━\u001b[0m\u001b[37m\u001b[0m \u001b[1m126s\u001b[0m 116ms/step - loss: 2.5345 - masked_accuracy: 0.9835 - val_score: 0.5695\n\nEpoch 37/200\n\n\u001b[1m1085/1085\u001b[0m \u001b[32m━━━━━━━━━━━━━━━━━━━━\u001b[0m\u001b[37m\u001b[0m \u001b[1m0s\u001b[0m 73ms/step - loss: 2.5342 - masked_accuracy: 0.9834\n\nValidation Score after batch 1: 0.5693023858870137\n\n\n\nValidation Score after batch 2: 0.5695393591431032\n\n\n\nValidation Score after batch 3: 0.5698306898803484\n\n\u001b[1m1085/1085\u001b[0m \u001b[32m━━━━━━━━━━━━━━━━━━━━\u001b[0m\u001b[37m\u001b[0m \u001b[1m126s\u001b[0m 116ms/step - loss: 2.5342 - masked_accuracy: 0.9834 - val_score: 0.5698\n\nEpoch 38/200\n\n\u001b[1m1085/1085\u001b[0m \u001b[32m━━━━━━━━━━━━━━━━━━━━\u001b[0m\u001b[37m\u001b[0m \u001b[1m0s\u001b[0m 74ms/step - loss: 2.5341 - masked_accuracy: 0.9835\n\nValidation Score after batch 1: 0.5700815926635254\n\n\n\nValidation Score after batch 2: 0.5705505183076427\n\n\n\nValidation Score after batch 3: 0.5703444902245111\n\n\u001b[1m1085/1085\u001b[0m \u001b[32m━━━━━━━━━━━━━━━━━━━━\u001b[0m\u001b[37m\u001b[0m \u001b[1m127s\u001b[0m 117ms/step - loss: 2.5341 - masked_accuracy: 0.9835 - val_score: 0.5703\n\nEpoch 39/200\n\n\u001b[1m1085/1085\u001b[0m \u001b[32m━━━━━━━━━━━━━━━━━━━━\u001b[0m\u001b[37m\u001b[0m \u001b[1m0s\u001b[0m 74ms/step - loss: 2.5336 - masked_accuracy: 0.9837\n\nValidation Score after batch 1: 0.5699791432779485\n\n\n\nValidation Score after batch 2: 0.5692702279376319\n\n\n\nValidation Score after batch 3: 0.5699936597037392\n\n\u001b[1m1085/1085\u001b[0m \u001b[32m━━━━━━━━━━━━━━━━━━━━\u001b[0m\u001b[37m\u001b[0m \u001b[1m126s\u001b[0m 117ms/step - loss: 2.5336 - masked_accuracy: 0.9837 - val_score: 0.5700\n\nEpoch 40/200\n\n\u001b[1m1085/1085\u001b[0m \u001b[32m━━━━━━━━━━━━━━━━━━━━\u001b[0m\u001b[37m\u001b[0m \u001b[1m0s\u001b[0m 72ms/step - loss: 2.5345 - masked_accuracy: 0.9835\n\nValidation Score after batch 1: 0.5696377996086979\n\n\n\nValidation Score after batch 2: 0.56888386058328\n\n\n\nValidation Score after batch 3: 0.5697838909008696\n\n\u001b[1m1085/1085\u001b[0m \u001b[32m━━━━━━━━━━━━━━━━━━━━\u001b[0m\u001b[37m\u001b[0m \u001b[1m126s\u001b[0m 116ms/step - loss: 2.5345 - masked_accuracy: 0.9835 - val_score: 0.5698\n\nEpoch 41/200\n\n\u001b[1m1085/1085\u001b[0m \u001b[32m━━━━━━━━━━━━━━━━━━━━\u001b[0m\u001b[37m\u001b[0m \u001b[1m0s\u001b[0m 74ms/step - loss: 2.5338 - masked_accuracy: 0.9836\n\nValidation Score after batch 1: 0.5702170375918673\n\n\n\nValidation Score after batch 2: 0.5692972641121536\n\n\n\nValidation Score after batch 3: 0.5701236702652952\n\n\u001b[1m1085/1085\u001b[0m \u001b[32m━━━━━━━━━━━━━━━━━━━━\u001b[0m\u001b[37m\u001b[0m \u001b[1m127s\u001b[0m 117ms/step - loss: 2.5338 - masked_accuracy: 0.9836 - val_score: 0.5701\n\nEpoch 42/200\n\n\u001b[1m1085/1085\u001b[0m \u001b[32m━━━━━━━━━━━━━━━━━━━━\u001b[0m\u001b[37m\u001b[0m \u001b[1m0s\u001b[0m 74ms/step - loss: 2.5339 - masked_accuracy: 0.9835\n\nValidation Score after batch 1: 0.5696516262436521\n\n\n\nValidation Score after batch 2: 0.5690145584380462\n\n\n\nValidation Score after batch 3: 0.5697418406927438\n\n\u001b[1m1085/1085\u001b[0m \u001b[32m━━━━━━━━━━━━━━━━━━━━\u001b[0m\u001b[37m\u001b[0m \u001b[1m127s\u001b[0m 117ms/step - loss: 2.5339 - masked_accuracy: 0.9835 - val_score: 0.5697\n\nEpoch 43/200\n\n\u001b[1m1085/1085\u001b[0m \u001b[32m━━━━━━━━━━━━━━━━━━━━\u001b[0m\u001b[37m\u001b[0m \u001b[1m0s\u001b[0m 74ms/step - loss: 2.5339 - masked_accuracy: 0.9835\n\nValidation Score after batch 1: 0.5696516564146614\n\n\n\nValidation Score after batch 2: 0.5690145735235508\n\n\n\nValidation Score after batch 3: 0.5697210174164136\n\n\u001b[1m1085/1085\u001b[0m \u001b[32m━━━━━━━━━━━━━━━━━━━━\u001b[0m\u001b[37m\u001b[0m \u001b[1m127s\u001b[0m 117ms/step - loss: 2.5339 - masked_accuracy: 0.9835 - val_score: 0.5697\n\nEpoch 44/200\n\n\u001b[1m1085/1085\u001b[0m \u001b[32m━━━━━━━━━━━━━━━━━━━━\u001b[0m\u001b[37m\u001b[0m \u001b[1m0s\u001b[0m 74ms/step - loss: 2.5337 - masked_accuracy: 0.9839\n\nValidation Score after batch 1: 0.5699060392411373\n\n\n\nValidation Score after batch 2: 0.5690855851615079\n\n\n\nValidation Score after batch 3: 0.5695774590374854\n\n\u001b[1m1085/1085\u001b[0m \u001b[32m━━━━━━━━━━━━━━━━━━━━\u001b[0m\u001b[37m\u001b[0m \u001b[1m127s\u001b[0m 117ms/step - loss: 2.5337 - masked_accuracy: 0.9839 - val_score: 0.5696\n\nEpoch 45/200\n\n\u001b[1m1085/1085\u001b[0m \u001b[32m━━━━━━━━━━━━━━━━━━━━\u001b[0m\u001b[37m\u001b[0m \u001b[1m0s\u001b[0m 74ms/step - loss: 2.5343 - masked_accuracy: 0.9835\n\nValidation Score after batch 1: 0.5695949281300261\n\n\n\nValidation Score after batch 2: 0.5689300296059523\n\n\n\nValidation Score after batch 3: 0.5694604220004483\n\n\u001b[1m1085/1085\u001b[0m \u001b[32m━━━━━━━━━━━━━━━━━━━━\u001b[0m\u001b[37m\u001b[0m \u001b[1m127s\u001b[0m 117ms/step - loss: 2.5343 - masked_accuracy: 0.9835 - val_score: 0.5695\n\nEpoch 46/200\n\n\u001b[1m1085/1085\u001b[0m \u001b[32m━━━━━━━━━━━━━━━━━━━━\u001b[0m\u001b[37m\u001b[0m \u001b[1m0s\u001b[0m 74ms/step - loss: 2.5336 - masked_accuracy: 0.9838\n\nValidation Score after batch 1: 0.569544928130026\n\n\n\nValidation Score after batch 2: 0.5689050296059522\n\n\n\nValidation Score after batch 3: 0.5694437553337817\n\n\u001b[1m1085/1085\u001b[0m \u001b[32m━━━━━━━━━━━━━━━━━━━━\u001b[0m\u001b[37m\u001b[0m \u001b[1m127s\u001b[0m 117ms/step - loss: 2.5336 - masked_accuracy: 0.9838 - val_score: 0.5694\n\nEpoch 47/200\n\n\u001b[1m1085/1085\u001b[0m \u001b[32m━━━━━━━━━━━━━━━━━━━━\u001b[0m\u001b[37m\u001b[0m \u001b[1m0s\u001b[0m 73ms/step - loss: 2.5338 - masked_accuracy: 0.9837\n\nValidation Score after batch 1: 0.569544928130026\n\n\n\nValidation Score after batch 2: 0.5689050296059522\n\n\n\nValidation Score after batch 3: 0.5694437553337817\n\n\u001b[1m1085/1085\u001b[0m \u001b[32m━━━━━━━━━━━━━━━━━━━━\u001b[0m\u001b[37m\u001b[0m \u001b[1m127s\u001b[0m 117ms/step - loss: 2.5338 - masked_accuracy: 0.9837 - val_score: 0.5694\n"
        },
        {
          "output_type": "display_data",
          "data": {
            "image/png": "[encoded data removed]",
            "text/plain": [
              "<Figure size 640x480 with 1 Axes>"
            ]
          },
          "metadata": {}
        },
        {
          "output_type": "display_data",
          "data": {
            "image/png": "[encoded data removed]",
            "text/plain": [
              "<Figure size 640x480 with 1 Axes>"
            ]
          },
          "metadata": {}
        }
      ]
    },
    {
      "cell_type": "code",
      "source": [
        "score_batch_size = 500\n",
        "total_test_size = 3000\n",
        "score_ = 0\n",
        "translator=Translator(transformer,tokenizer)\n",
        "test_generator = DataGenerator(shuffled_data[220000:], mode='test', batch_size=score_batch_size)\n",
        "for i in range(total_test_size//score_batch_size):\n",
        "    shuffled, ordered = test_generator[i]\n",
        "    y_pred = translator(shuffled)\n",
        "    b_score = 0                   # score associated with each batch\n",
        "\n",
        "    pred_sentences = detokenizer(y_pred)\n",
        "    original_sentences = detokenizer(ordered)\n",
        "\n",
        "    for j in range(score_batch_size) :\n",
        "        b_score += score(clean_sentence(original_sentences[j]), clean_sentence(pred_sentences[j]))\n",
        "\n",
        "    score_ += b_score\n",
        "    print(\"\\n====BATCH OVER====\")\n",
        "    print(\"Score as of batch \", i, \": \", score_/((i+1)*score_batch_size))\n",
        "\n",
        "score_ = score_/total_test_size\n",
        "print(\"\\n====ALL OVER====\")\n",
        "print(\"Final score: \", score_)"
      ],
      "metadata": {
        "execution": {
          "iopub.status.busy": "2024-06-10T17:02:45.459214Z",
          "iopub.status.idle": "2024-06-10T17:02:45.459565Z",
          "shell.execute_reply": "2024-06-10T17:02:45.459409Z",
          "shell.execute_reply.started": "2024-06-10T17:02:45.459393Z"
        },
        "trusted": true,
        "id": "AQA9S2SKxz7e",
        "outputId": "aa664cbc-5682-4152-ec78-da6afd715f25"
      },
      "execution_count": null,
      "outputs": [
        {
          "name": "stderr",
          "output_type": "stream",
          "text": "/home/zeus/miniconda3/envs/cloudspace/lib/python3.10/site-packages/keras/src/ops/nn.py:545: UserWarning: You are using a softmax over axis 3 of a tensor of shape (500, 8, 1, 1). This axis has size 1. The softmax operation will always return the value 1, which is likely not what you intended. Did you mean to use a sigmoid instead?\n\n  warnings.warn(\n"
        },
        {
          "name": "stdout",
          "output_type": "stream",
          "text": "\n\n====BATCH OVER====\n\nScore as of batch  0 :  0.5751883901435415\n\n\n\n====BATCH OVER====\n\nScore as of batch  1 :  0.5836768526619389\n\n\n\n====BATCH OVER====\n\nScore as of batch  2 :  0.57737559133173\n\n\n\n====BATCH OVER====\n\nScore as of batch  3 :  0.5786266152461692\n\n\n\n====BATCH OVER====\n\nScore as of batch  4 :  0.5762958641176169\n\n\n\n====BATCH OVER====\n\nScore as of batch  5 :  0.5732276251260583\n\n\n\n====ALL OVER====\n\nFinal score:  0.5732276251260583\n"
        }
      ]
    },
    {
      "cell_type": "markdown",
      "source": [
        "# Conclusion\n",
        "\n",
        "My final score is: 0.5732276251260583\n",
        "\n",
        "After numerous experiments and iterations, I have developed a final model using the Transformer architecture as proposed in the paper Attention Is All You Need. While I also experimented with different architectures, such as LSTM, their performance was significantly worse.\n",
        "\n",
        "To further enhance the model’s performance, I incorporated a custom Validation Callback, which allowed real-time monitoring of the model’s performance on the validation set. This led to higher accuracy and better test performance. Additionally, I adopted the CosineDecay learning rate schedule to personalize the learning rate and help the model overcome encountered plateaus.\n",
        "\n",
        "The model achieved average performance overall. Parameter tuning efforts, such as:\n",
        "\n",
        "•\tIncreasing the number of attention heads\n",
        "\n",
        "•\tIncreasing the dropout rate\n",
        "\n",
        "resulted in similar or lower scores.\n",
        "\n",
        "For completeness I would like to say that I was inspired by the following papers:\n",
        "\n",
        "* https://aclanthology.org/2021.naacl-main.134.pdf\n",
        "* https://arxiv.org/pdf/1706.03762.pdf"
      ],
      "metadata": {
        "id": "GPNQVm9M0Js3"
      }
    }
  ]
}